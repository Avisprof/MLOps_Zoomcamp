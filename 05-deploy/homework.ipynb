{
 "cells": [
  {
   "cell_type": "markdown",
   "id": "925d610c",
   "metadata": {},
   "source": [
    "https://github.com/DataTalksClub/mlops-zoomcamp/blob/main/cohorts/2023/04-deployment/homework.md"
   ]
  },
  {
   "cell_type": "markdown",
   "id": "6ff79fe5",
   "metadata": {},
   "source": [
    "In this homework, we'll deploy the ride duration model in batch mode. Like in homework 1, we'll use the Yellow Taxi Trip Records dataset."
   ]
  },
  {
   "cell_type": "code",
   "execution_count": 9,
   "id": "8e599e20",
   "metadata": {},
   "outputs": [],
   "source": [
    "import numpy as np\n",
    "import pandas as pd\n",
    "import matplotlib.pyplot as plt\n",
    "%matplotlib inline\n",
    "import seaborn as sns\n",
    "\n",
    "import pickle"
   ]
  },
  {
   "cell_type": "markdown",
   "id": "90fde1b0",
   "metadata": {},
   "source": [
    "## Q1. Notebook\n",
    "\n",
    "We'll start with the same notebook we ended up with in homework 1.\n",
    "We cleaned it a little bit and kept only the scoring part. You can find the initial notebook [here](homework/starter.ipynb).\n",
    "\n",
    "Run this notebook for the February 2022 data.\n",
    "\n",
    "What's the standard deviation of the predicted duration for this dataset?"
   ]
  },
  {
   "cell_type": "code",
   "execution_count": 2,
   "id": "2f087d21",
   "metadata": {},
   "outputs": [],
   "source": [
    "with open('model.bin', 'rb') as f_in:\n",
    "    dv, model = pickle.load(f_in)"
   ]
  },
  {
   "cell_type": "code",
   "execution_count": 3,
   "id": "4ac61ccb",
   "metadata": {},
   "outputs": [],
   "source": [
    "categorical = ['PULocationID', 'DOLocationID']\n",
    "\n",
    "def read_data(filename):\n",
    "    df = pd.read_parquet(filename)\n",
    "    \n",
    "    df['duration'] = df.tpep_dropoff_datetime - df.tpep_pickup_datetime\n",
    "    df['duration'] = df.duration.dt.total_seconds() / 60\n",
    "\n",
    "    df = df[(df.duration >= 1) & (df.duration <= 60)].copy()\n",
    "\n",
    "    df[categorical] = df[categorical].fillna(-1).astype('int').astype('str')\n",
    "    \n",
    "    return df"
   ]
  },
  {
   "cell_type": "code",
   "execution_count": 4,
   "id": "ae9f4190",
   "metadata": {},
   "outputs": [
    {
     "name": "stdout",
     "output_type": "stream",
     "text": [
      "(2918187, 20)\n"
     ]
    },
    {
     "data": {
      "text/html": [
       "<div>\n",
       "<style scoped>\n",
       "    .dataframe tbody tr th:only-of-type {\n",
       "        vertical-align: middle;\n",
       "    }\n",
       "\n",
       "    .dataframe tbody tr th {\n",
       "        vertical-align: top;\n",
       "    }\n",
       "\n",
       "    .dataframe thead th {\n",
       "        text-align: right;\n",
       "    }\n",
       "</style>\n",
       "<table border=\"1\" class=\"dataframe\">\n",
       "  <thead>\n",
       "    <tr style=\"text-align: right;\">\n",
       "      <th></th>\n",
       "      <th>VendorID</th>\n",
       "      <th>tpep_pickup_datetime</th>\n",
       "      <th>tpep_dropoff_datetime</th>\n",
       "      <th>passenger_count</th>\n",
       "      <th>trip_distance</th>\n",
       "      <th>RatecodeID</th>\n",
       "      <th>store_and_fwd_flag</th>\n",
       "      <th>PULocationID</th>\n",
       "      <th>DOLocationID</th>\n",
       "      <th>payment_type</th>\n",
       "      <th>fare_amount</th>\n",
       "      <th>extra</th>\n",
       "      <th>mta_tax</th>\n",
       "      <th>tip_amount</th>\n",
       "      <th>tolls_amount</th>\n",
       "      <th>improvement_surcharge</th>\n",
       "      <th>total_amount</th>\n",
       "      <th>congestion_surcharge</th>\n",
       "      <th>airport_fee</th>\n",
       "      <th>duration</th>\n",
       "    </tr>\n",
       "  </thead>\n",
       "  <tbody>\n",
       "    <tr>\n",
       "      <th>0</th>\n",
       "      <td>1</td>\n",
       "      <td>2022-02-01 00:06:58</td>\n",
       "      <td>2022-02-01 00:19:24</td>\n",
       "      <td>1.0</td>\n",
       "      <td>5.40</td>\n",
       "      <td>1.0</td>\n",
       "      <td>N</td>\n",
       "      <td>138</td>\n",
       "      <td>252</td>\n",
       "      <td>1</td>\n",
       "      <td>17.0</td>\n",
       "      <td>1.75</td>\n",
       "      <td>0.5</td>\n",
       "      <td>3.90</td>\n",
       "      <td>0.00</td>\n",
       "      <td>0.3</td>\n",
       "      <td>23.45</td>\n",
       "      <td>0.0</td>\n",
       "      <td>1.25</td>\n",
       "      <td>12.433333</td>\n",
       "    </tr>\n",
       "    <tr>\n",
       "      <th>1</th>\n",
       "      <td>1</td>\n",
       "      <td>2022-02-01 00:38:22</td>\n",
       "      <td>2022-02-01 00:55:55</td>\n",
       "      <td>1.0</td>\n",
       "      <td>6.40</td>\n",
       "      <td>1.0</td>\n",
       "      <td>N</td>\n",
       "      <td>138</td>\n",
       "      <td>41</td>\n",
       "      <td>2</td>\n",
       "      <td>21.0</td>\n",
       "      <td>1.75</td>\n",
       "      <td>0.5</td>\n",
       "      <td>0.00</td>\n",
       "      <td>6.55</td>\n",
       "      <td>0.3</td>\n",
       "      <td>30.10</td>\n",
       "      <td>0.0</td>\n",
       "      <td>1.25</td>\n",
       "      <td>17.550000</td>\n",
       "    </tr>\n",
       "    <tr>\n",
       "      <th>2</th>\n",
       "      <td>1</td>\n",
       "      <td>2022-02-01 00:03:20</td>\n",
       "      <td>2022-02-01 00:26:59</td>\n",
       "      <td>1.0</td>\n",
       "      <td>12.50</td>\n",
       "      <td>1.0</td>\n",
       "      <td>N</td>\n",
       "      <td>138</td>\n",
       "      <td>200</td>\n",
       "      <td>2</td>\n",
       "      <td>35.5</td>\n",
       "      <td>1.75</td>\n",
       "      <td>0.5</td>\n",
       "      <td>0.00</td>\n",
       "      <td>6.55</td>\n",
       "      <td>0.3</td>\n",
       "      <td>44.60</td>\n",
       "      <td>0.0</td>\n",
       "      <td>1.25</td>\n",
       "      <td>23.650000</td>\n",
       "    </tr>\n",
       "    <tr>\n",
       "      <th>3</th>\n",
       "      <td>2</td>\n",
       "      <td>2022-02-01 00:08:00</td>\n",
       "      <td>2022-02-01 00:28:05</td>\n",
       "      <td>1.0</td>\n",
       "      <td>9.88</td>\n",
       "      <td>1.0</td>\n",
       "      <td>N</td>\n",
       "      <td>239</td>\n",
       "      <td>200</td>\n",
       "      <td>2</td>\n",
       "      <td>28.0</td>\n",
       "      <td>0.50</td>\n",
       "      <td>0.5</td>\n",
       "      <td>0.00</td>\n",
       "      <td>3.00</td>\n",
       "      <td>0.3</td>\n",
       "      <td>34.80</td>\n",
       "      <td>2.5</td>\n",
       "      <td>0.00</td>\n",
       "      <td>20.083333</td>\n",
       "    </tr>\n",
       "    <tr>\n",
       "      <th>4</th>\n",
       "      <td>2</td>\n",
       "      <td>2022-02-01 00:06:48</td>\n",
       "      <td>2022-02-01 00:33:07</td>\n",
       "      <td>1.0</td>\n",
       "      <td>12.16</td>\n",
       "      <td>1.0</td>\n",
       "      <td>N</td>\n",
       "      <td>138</td>\n",
       "      <td>125</td>\n",
       "      <td>1</td>\n",
       "      <td>35.5</td>\n",
       "      <td>0.50</td>\n",
       "      <td>0.5</td>\n",
       "      <td>8.11</td>\n",
       "      <td>0.00</td>\n",
       "      <td>0.3</td>\n",
       "      <td>48.66</td>\n",
       "      <td>2.5</td>\n",
       "      <td>1.25</td>\n",
       "      <td>26.316667</td>\n",
       "    </tr>\n",
       "  </tbody>\n",
       "</table>\n",
       "</div>"
      ],
      "text/plain": [
       "   VendorID tpep_pickup_datetime tpep_dropoff_datetime  passenger_count   \n",
       "0         1  2022-02-01 00:06:58   2022-02-01 00:19:24              1.0  \\\n",
       "1         1  2022-02-01 00:38:22   2022-02-01 00:55:55              1.0   \n",
       "2         1  2022-02-01 00:03:20   2022-02-01 00:26:59              1.0   \n",
       "3         2  2022-02-01 00:08:00   2022-02-01 00:28:05              1.0   \n",
       "4         2  2022-02-01 00:06:48   2022-02-01 00:33:07              1.0   \n",
       "\n",
       "   trip_distance  RatecodeID store_and_fwd_flag PULocationID DOLocationID   \n",
       "0           5.40         1.0                  N          138          252  \\\n",
       "1           6.40         1.0                  N          138           41   \n",
       "2          12.50         1.0                  N          138          200   \n",
       "3           9.88         1.0                  N          239          200   \n",
       "4          12.16         1.0                  N          138          125   \n",
       "\n",
       "   payment_type  fare_amount  extra  mta_tax  tip_amount  tolls_amount   \n",
       "0             1         17.0   1.75      0.5        3.90          0.00  \\\n",
       "1             2         21.0   1.75      0.5        0.00          6.55   \n",
       "2             2         35.5   1.75      0.5        0.00          6.55   \n",
       "3             2         28.0   0.50      0.5        0.00          3.00   \n",
       "4             1         35.5   0.50      0.5        8.11          0.00   \n",
       "\n",
       "   improvement_surcharge  total_amount  congestion_surcharge  airport_fee   \n",
       "0                    0.3         23.45                   0.0         1.25  \\\n",
       "1                    0.3         30.10                   0.0         1.25   \n",
       "2                    0.3         44.60                   0.0         1.25   \n",
       "3                    0.3         34.80                   2.5         0.00   \n",
       "4                    0.3         48.66                   2.5         1.25   \n",
       "\n",
       "    duration  \n",
       "0  12.433333  \n",
       "1  17.550000  \n",
       "2  23.650000  \n",
       "3  20.083333  \n",
       "4  26.316667  "
      ]
     },
     "execution_count": 4,
     "metadata": {},
     "output_type": "execute_result"
    }
   ],
   "source": [
    "df = read_data('../../data/yellow_tripdata_2022-02.parquet')\n",
    "print(df.shape)\n",
    "df.head()"
   ]
  },
  {
   "cell_type": "code",
   "execution_count": 5,
   "id": "9dba4bd2",
   "metadata": {},
   "outputs": [],
   "source": [
    "dicts = df[categorical].to_dict(orient='records')\n",
    "X_val = dv.transform(dicts)\n",
    "y_pred = model.predict(X_val)"
   ]
  },
  {
   "cell_type": "code",
   "execution_count": 18,
   "id": "25454612",
   "metadata": {},
   "outputs": [
    {
     "data": {
      "image/png": "[encoded data removed]",
      "text/plain": [
       "<Figure size 640x480 with 1 Axes>"
      ]
     },
     "metadata": {},
     "output_type": "display_data"
    }
   ],
   "source": [
    "plt.hist(df.duration, bins=100, alpha=0.5, label='actual')\n",
    "plt.hist(y_pred, bins=100, alpha=0.5, label='predicted')\n",
    "plt.legend();"
   ]
  },
  {
   "cell_type": "code",
   "execution_count": 22,
   "id": "9d1e5d82",
   "metadata": {},
   "outputs": [
    {
     "data": {
      "text/plain": [
       "5.28140357655334"
      ]
     },
     "execution_count": 22,
     "metadata": {},
     "output_type": "execute_result"
    }
   ],
   "source": [
    "np.std(y_pred)"
   ]
  },
  {
   "cell_type": "markdown",
   "id": "83fe50df",
   "metadata": {},
   "source": [
    "Answer: __5.28__"
   ]
  },
  {
   "cell_type": "markdown",
   "id": "dd8ca611",
   "metadata": {},
   "source": [
    "## Q2. Preparing the output\n",
    "\n",
    "Like in the course videos, we want to prepare the dataframe with the output. \n",
    "\n",
    "First, let's create an artificial `ride_id` column:\n",
    "\n",
    "```python\n",
    "df['ride_id'] = f'{year:04d}/{month:02d}_' + df.index.astype('str')\n",
    "```\n",
    "\n",
    "Next, write the ride id and the predictions to a dataframe with results. \n",
    "\n",
    "Save it as parquet:\n",
    "\n",
    "```python\n",
    "df_result.to_parquet(\n",
    "    output_file,\n",
    "    engine='pyarrow',\n",
    "    compression=None,\n",
    "    index=False\n",
    ")\n",
    "```\n",
    "\n",
    "What's the size of the output file?"
   ]
  },
  {
   "cell_type": "code",
   "execution_count": 23,
   "id": "b1c075e6",
   "metadata": {},
   "outputs": [
    {
     "data": {
      "text/html": [
       "<div>\n",
       "<style scoped>\n",
       "    .dataframe tbody tr th:only-of-type {\n",
       "        vertical-align: middle;\n",
       "    }\n",
       "\n",
       "    .dataframe tbody tr th {\n",
       "        vertical-align: top;\n",
       "    }\n",
       "\n",
       "    .dataframe thead th {\n",
       "        text-align: right;\n",
       "    }\n",
       "</style>\n",
       "<table border=\"1\" class=\"dataframe\">\n",
       "  <thead>\n",
       "    <tr style=\"text-align: right;\">\n",
       "      <th></th>\n",
       "      <th>VendorID</th>\n",
       "      <th>tpep_pickup_datetime</th>\n",
       "      <th>tpep_dropoff_datetime</th>\n",
       "      <th>passenger_count</th>\n",
       "      <th>trip_distance</th>\n",
       "      <th>RatecodeID</th>\n",
       "      <th>store_and_fwd_flag</th>\n",
       "      <th>PULocationID</th>\n",
       "      <th>DOLocationID</th>\n",
       "      <th>payment_type</th>\n",
       "      <th>...</th>\n",
       "      <th>extra</th>\n",
       "      <th>mta_tax</th>\n",
       "      <th>tip_amount</th>\n",
       "      <th>tolls_amount</th>\n",
       "      <th>improvement_surcharge</th>\n",
       "      <th>total_amount</th>\n",
       "      <th>congestion_surcharge</th>\n",
       "      <th>airport_fee</th>\n",
       "      <th>duration</th>\n",
       "      <th>ride_id</th>\n",
       "    </tr>\n",
       "  </thead>\n",
       "  <tbody>\n",
       "    <tr>\n",
       "      <th>0</th>\n",
       "      <td>1</td>\n",
       "      <td>2022-02-01 00:06:58</td>\n",
       "      <td>2022-02-01 00:19:24</td>\n",
       "      <td>1.0</td>\n",
       "      <td>5.40</td>\n",
       "      <td>1.0</td>\n",
       "      <td>N</td>\n",
       "      <td>138</td>\n",
       "      <td>252</td>\n",
       "      <td>1</td>\n",
       "      <td>...</td>\n",
       "      <td>1.75</td>\n",
       "      <td>0.5</td>\n",
       "      <td>3.90</td>\n",
       "      <td>0.00</td>\n",
       "      <td>0.3</td>\n",
       "      <td>23.45</td>\n",
       "      <td>0.0</td>\n",
       "      <td>1.25</td>\n",
       "      <td>12.433333</td>\n",
       "      <td>2022/02_0</td>\n",
       "    </tr>\n",
       "    <tr>\n",
       "      <th>1</th>\n",
       "      <td>1</td>\n",
       "      <td>2022-02-01 00:38:22</td>\n",
       "      <td>2022-02-01 00:55:55</td>\n",
       "      <td>1.0</td>\n",
       "      <td>6.40</td>\n",
       "      <td>1.0</td>\n",
       "      <td>N</td>\n",
       "      <td>138</td>\n",
       "      <td>41</td>\n",
       "      <td>2</td>\n",
       "      <td>...</td>\n",
       "      <td>1.75</td>\n",
       "      <td>0.5</td>\n",
       "      <td>0.00</td>\n",
       "      <td>6.55</td>\n",
       "      <td>0.3</td>\n",
       "      <td>30.10</td>\n",
       "      <td>0.0</td>\n",
       "      <td>1.25</td>\n",
       "      <td>17.550000</td>\n",
       "      <td>2022/02_1</td>\n",
       "    </tr>\n",
       "    <tr>\n",
       "      <th>2</th>\n",
       "      <td>1</td>\n",
       "      <td>2022-02-01 00:03:20</td>\n",
       "      <td>2022-02-01 00:26:59</td>\n",
       "      <td>1.0</td>\n",
       "      <td>12.50</td>\n",
       "      <td>1.0</td>\n",
       "      <td>N</td>\n",
       "      <td>138</td>\n",
       "      <td>200</td>\n",
       "      <td>2</td>\n",
       "      <td>...</td>\n",
       "      <td>1.75</td>\n",
       "      <td>0.5</td>\n",
       "      <td>0.00</td>\n",
       "      <td>6.55</td>\n",
       "      <td>0.3</td>\n",
       "      <td>44.60</td>\n",
       "      <td>0.0</td>\n",
       "      <td>1.25</td>\n",
       "      <td>23.650000</td>\n",
       "      <td>2022/02_2</td>\n",
       "    </tr>\n",
       "    <tr>\n",
       "      <th>3</th>\n",
       "      <td>2</td>\n",
       "      <td>2022-02-01 00:08:00</td>\n",
       "      <td>2022-02-01 00:28:05</td>\n",
       "      <td>1.0</td>\n",
       "      <td>9.88</td>\n",
       "      <td>1.0</td>\n",
       "      <td>N</td>\n",
       "      <td>239</td>\n",
       "      <td>200</td>\n",
       "      <td>2</td>\n",
       "      <td>...</td>\n",
       "      <td>0.50</td>\n",
       "      <td>0.5</td>\n",
       "      <td>0.00</td>\n",
       "      <td>3.00</td>\n",
       "      <td>0.3</td>\n",
       "      <td>34.80</td>\n",
       "      <td>2.5</td>\n",
       "      <td>0.00</td>\n",
       "      <td>20.083333</td>\n",
       "      <td>2022/02_3</td>\n",
       "    </tr>\n",
       "    <tr>\n",
       "      <th>4</th>\n",
       "      <td>2</td>\n",
       "      <td>2022-02-01 00:06:48</td>\n",
       "      <td>2022-02-01 00:33:07</td>\n",
       "      <td>1.0</td>\n",
       "      <td>12.16</td>\n",
       "      <td>1.0</td>\n",
       "      <td>N</td>\n",
       "      <td>138</td>\n",
       "      <td>125</td>\n",
       "      <td>1</td>\n",
       "      <td>...</td>\n",
       "      <td>0.50</td>\n",
       "      <td>0.5</td>\n",
       "      <td>8.11</td>\n",
       "      <td>0.00</td>\n",
       "      <td>0.3</td>\n",
       "      <td>48.66</td>\n",
       "      <td>2.5</td>\n",
       "      <td>1.25</td>\n",
       "      <td>26.316667</td>\n",
       "      <td>2022/02_4</td>\n",
       "    </tr>\n",
       "  </tbody>\n",
       "</table>\n",
       "<p>5 rows × 21 columns</p>\n",
       "</div>"
      ],
      "text/plain": [
       "   VendorID tpep_pickup_datetime tpep_dropoff_datetime  passenger_count   \n",
       "0         1  2022-02-01 00:06:58   2022-02-01 00:19:24              1.0  \\\n",
       "1         1  2022-02-01 00:38:22   2022-02-01 00:55:55              1.0   \n",
       "2         1  2022-02-01 00:03:20   2022-02-01 00:26:59              1.0   \n",
       "3         2  2022-02-01 00:08:00   2022-02-01 00:28:05              1.0   \n",
       "4         2  2022-02-01 00:06:48   2022-02-01 00:33:07              1.0   \n",
       "\n",
       "   trip_distance  RatecodeID store_and_fwd_flag PULocationID DOLocationID   \n",
       "0           5.40         1.0                  N          138          252  \\\n",
       "1           6.40         1.0                  N          138           41   \n",
       "2          12.50         1.0                  N          138          200   \n",
       "3           9.88         1.0                  N          239          200   \n",
       "4          12.16         1.0                  N          138          125   \n",
       "\n",
       "   payment_type  ...  extra  mta_tax  tip_amount  tolls_amount   \n",
       "0             1  ...   1.75      0.5        3.90          0.00  \\\n",
       "1             2  ...   1.75      0.5        0.00          6.55   \n",
       "2             2  ...   1.75      0.5        0.00          6.55   \n",
       "3             2  ...   0.50      0.5        0.00          3.00   \n",
       "4             1  ...   0.50      0.5        8.11          0.00   \n",
       "\n",
       "   improvement_surcharge  total_amount  congestion_surcharge  airport_fee   \n",
       "0                    0.3         23.45                   0.0         1.25  \\\n",
       "1                    0.3         30.10                   0.0         1.25   \n",
       "2                    0.3         44.60                   0.0         1.25   \n",
       "3                    0.3         34.80                   2.5         0.00   \n",
       "4                    0.3         48.66                   2.5         1.25   \n",
       "\n",
       "    duration    ride_id  \n",
       "0  12.433333  2022/02_0  \n",
       "1  17.550000  2022/02_1  \n",
       "2  23.650000  2022/02_2  \n",
       "3  20.083333  2022/02_3  \n",
       "4  26.316667  2022/02_4  \n",
       "\n",
       "[5 rows x 21 columns]"
      ]
     },
     "execution_count": 23,
     "metadata": {},
     "output_type": "execute_result"
    }
   ],
   "source": [
    "year = 2022\n",
    "month = 2\n",
    "df['ride_id'] = f'{year:04d}/{month:02d}_' + df.index.astype('str')\n",
    "df.head()"
   ]
  },
  {
   "cell_type": "code",
   "execution_count": 28,
   "id": "bf83119e",
   "metadata": {},
   "outputs": [
    {
     "data": {
      "text/html": [
       "<div>\n",
       "<style scoped>\n",
       "    .dataframe tbody tr th:only-of-type {\n",
       "        vertical-align: middle;\n",
       "    }\n",
       "\n",
       "    .dataframe tbody tr th {\n",
       "        vertical-align: top;\n",
       "    }\n",
       "\n",
       "    .dataframe thead th {\n",
       "        text-align: right;\n",
       "    }\n",
       "</style>\n",
       "<table border=\"1\" class=\"dataframe\">\n",
       "  <thead>\n",
       "    <tr style=\"text-align: right;\">\n",
       "      <th></th>\n",
       "      <th>ride_id</th>\n",
       "      <th>predicted_duration</th>\n",
       "    </tr>\n",
       "  </thead>\n",
       "  <tbody>\n",
       "    <tr>\n",
       "      <th>0</th>\n",
       "      <td>2022/02_0</td>\n",
       "      <td>18.527783</td>\n",
       "    </tr>\n",
       "    <tr>\n",
       "      <th>1</th>\n",
       "      <td>2022/02_1</td>\n",
       "      <td>23.065782</td>\n",
       "    </tr>\n",
       "    <tr>\n",
       "      <th>2</th>\n",
       "      <td>2022/02_2</td>\n",
       "      <td>33.686359</td>\n",
       "    </tr>\n",
       "    <tr>\n",
       "      <th>3</th>\n",
       "      <td>2022/02_3</td>\n",
       "      <td>23.757436</td>\n",
       "    </tr>\n",
       "    <tr>\n",
       "      <th>4</th>\n",
       "      <td>2022/02_4</td>\n",
       "      <td>21.492904</td>\n",
       "    </tr>\n",
       "  </tbody>\n",
       "</table>\n",
       "</div>"
      ],
      "text/plain": [
       "     ride_id  predicted_duration\n",
       "0  2022/02_0           18.527783\n",
       "1  2022/02_1           23.065782\n",
       "2  2022/02_2           33.686359\n",
       "3  2022/02_3           23.757436\n",
       "4  2022/02_4           21.492904"
      ]
     },
     "execution_count": 28,
     "metadata": {},
     "output_type": "execute_result"
    }
   ],
   "source": [
    "df_result = df[['ride_id']].copy()\n",
    "df_result['predicted_duration'] = y_pred\n",
    "df_result.head()"
   ]
  },
  {
   "cell_type": "code",
   "execution_count": 34,
   "id": "96ac271d",
   "metadata": {},
   "outputs": [],
   "source": [
    "output_file = f'yellow_tripdata_{year:04d}-{month:02d}.parquet'\n",
    "df_result.to_parquet(\n",
    "    output_file,\n",
    "    engine='pyarrow',\n",
    "    compression=None,\n",
    "    index=False\n",
    ")"
   ]
  },
  {
   "cell_type": "code",
   "execution_count": 42,
   "id": "6b3e543d",
   "metadata": {},
   "outputs": [
    {
     "name": "stdout",
     "output_type": "stream",
     "text": [
      "-rwxrwxrwx 1 wsl wsl 58M Jun 18 22:31 yellow_tripdata_2022-02.parquet\r\n"
     ]
    }
   ],
   "source": [
    "!ls -lh {output_file}"
   ]
  },
  {
   "cell_type": "markdown",
   "id": "aa5d87fa",
   "metadata": {},
   "source": [
    "Answer: __58 Mb__"
   ]
  },
  {
   "cell_type": "markdown",
   "id": "005b3906",
   "metadata": {},
   "source": [
    "## Q3. Creating the scoring script\n",
    "\n",
    "Now let's turn the notebook into a script. \n",
    "\n",
    "Which command you need to execute for that?"
   ]
  },
  {
   "cell_type": "code",
   "execution_count": 44,
   "id": "6d38ec45",
   "metadata": {},
   "outputs": [
    {
     "name": "stdout",
     "output_type": "stream",
     "text": [
      "[NbConvertApp] Converting notebook starter.ipynb to script\n",
      "[NbConvertApp] Writing 996 bytes to starter.py\n"
     ]
    }
   ],
   "source": [
    "!jupyter nbconvert --to script starter.ipynb"
   ]
  },
  {
   "cell_type": "markdown",
   "id": "cb7cc9e2",
   "metadata": {},
   "source": [
    "Answer: __jupyter nbconvert --to script starter.ipynb__"
   ]
  },
  {
   "cell_type": "markdown",
   "id": "bc785bf7",
   "metadata": {},
   "source": [
    "## Q4. Virtual environment\n",
    "\n",
    "Now let's put everything into a virtual environment. We'll use pipenv for that.\n",
    "\n",
    "Install all the required libraries. Pay attention to the Scikit-Learn version:\n",
    "it should be `scikit-learn==1.2.2`. \n",
    "\n",
    "After installing the libraries, pipenv creates two files: `Pipfile`\n",
    "and `Pipfile.lock`. The `Pipfile.lock` file keeps the hashes of the\n",
    "dependencies we use for the virtual env.\n",
    "\n",
    "What's the first hash for the Scikit-Learn dependency?"
   ]
  },
  {
   "cell_type": "markdown",
   "id": "5f6553dc",
   "metadata": {},
   "source": [
    "`pipenv install scikit-learn==1.2.2 pandas --python=3.9`"
   ]
  },
  {
   "cell_type": "code",
   "execution_count": 45,
   "id": "7bc6a579",
   "metadata": {},
   "outputs": [
    {
     "name": "stdout",
     "output_type": "stream",
     "text": [
      "        \"scikit-learn\": {\r\n",
      "            \"hashes\": [\r\n",
      "                \"sha256:065e9673e24e0dc5113e2dd2b4ca30c9d8aa2fa90f4c0597241c93b63130d233\",\r\n",
      "                \"sha256:2dd3ffd3950e3d6c0c0ef9033a9b9b32d910c61bd06cb8206303fb4514b88a49\",\r\n",
      "                \"sha256:2e2642baa0ad1e8f8188917423dd73994bf25429f8893ddbe115be3ca3183584\",\r\n",
      "                \"sha256:44b47a305190c28dd8dd73fc9445f802b6ea716669cfc22ab1eb97b335d238b1\",\r\n"
     ]
    }
   ],
   "source": [
    "!grep \"scikit-learn\" -A 5 Pipfile.lock"
   ]
  },
  {
   "cell_type": "markdown",
   "id": "3782bdca",
   "metadata": {},
   "source": [
    "Answer: __sha256:065e9673e24e0dc5113e2dd2b4ca30c9d8aa2fa90f4c0597241c93b63130d233__"
   ]
  },
  {
   "cell_type": "markdown",
   "id": "b2f74ba4",
   "metadata": {},
   "source": [
    "## Q5. Parametrize the script\n",
    "\n",
    "Let's now make the script configurable via CLI. We'll create two \n",
    "parameters: year and month.\n",
    "\n",
    "Run the script for March 2022. \n",
    "\n",
    "What's the mean predicted duration? "
   ]
  },
  {
   "cell_type": "code",
   "execution_count": 51,
   "id": "351d367a",
   "metadata": {},
   "outputs": [
    {
     "name": "stdout",
     "output_type": "stream",
     "text": [
      "Namespace(year='2022', month='3')\n",
      "(3539827, 20)\n",
      "y_pred: 12.76 +- 5.56\n"
     ]
    }
   ],
   "source": [
    "!python starter.py --year=2022 --month=3"
   ]
  },
  {
   "cell_type": "markdown",
   "id": "7a13bd78",
   "metadata": {},
   "source": [
    "Answer: __12.76__"
   ]
  },
  {
   "cell_type": "markdown",
   "id": "10e96753",
   "metadata": {},
   "source": [
    "## Q6. Docker container \n",
    "\n",
    "Finally, we'll package the script in the docker container. \n",
    "For that, you'll need to use a base image that we prepared. \n",
    "\n",
    "This is how it looks like:\n",
    "\n",
    "```\n",
    "FROM python:3.10.0-slim\n",
    "\n",
    "WORKDIR /app\n",
    "COPY [ \"model2.bin\", \"model.bin\" ]\n",
    "```\n",
    "\n",
    "(see [`homework/Dockerfile`](homework/Dockerfile))\n",
    "\n",
    "We pushed it to [`svizor/zoomcamp-model:mlops-3.10.0-slim`](https://hub.docker.com/layers/svizor/zoomcamp-model/mlops-3.10.0-slim/images/sha256-595bf690875f5b9075550b61c609be10f05e6915609ef4ea4ce9797116c99eff?context=repo),\n",
    "which you should use as your base image.\n",
    "\n",
    "That is, this is how your Dockerfile should start:\n",
    "\n",
    "```docker\n",
    "FROM svizor/zoomcamp-model:mlops-3.10.0-slim\n",
    "\n",
    "# do stuff here\n",
    "```\n",
    "\n",
    "This image already has a pickle file with a dictionary vectorizer\n",
    "and a model. You will need to use them.\n",
    "\n",
    "Important: don't copy the model to the docker image. You will need\n",
    "to use the pickle file already in the image. \n",
    "\n",
    "Now run the script with docker. What's the mean predicted duration\n",
    "for April 2022? "
   ]
  },
  {
   "cell_type": "raw",
   "id": "bb7b2f3e",
   "metadata": {},
   "source": [
    "FROM svizor/zoomcamp-model:mlops-3.10.0-slim\n",
    "RUN pip install -U pip\n",
    "RUN pip install pipenv\n",
    "WORKDIR /app\n",
    "COPY [ \"Pipfile\", \"Pipfile.lock\", \"./\" ]\n",
    "RUN pipenv install --system --deploy\n",
    "COPY [ \"starter.py\", \"script.py\" ]\n",
    "ENTRYPOINT [ \"python\", \"script.py\", \"--year=2022\", \"--month=4\" ]"
   ]
  },
  {
   "cell_type": "markdown",
   "id": "89ce3d01",
   "metadata": {},
   "source": [
    "`docker build -t mlops_hw_4 .`"
   ]
  },
  {
   "cell_type": "code",
   "execution_count": 53,
   "id": "9340df36",
   "metadata": {},
   "outputs": [
    {
     "name": "stdout",
     "output_type": "stream",
     "text": [
      "Namespace(year='2022', month='4')\n",
      "reading: https://d37ci6vzurychx.cloudfront.net/trip-data/yellow_tripdata_2022-04.parquet\n",
      "data size: (3501820, 20)\n",
      "y_pred: 12.83 +- 5.45\n"
     ]
    }
   ],
   "source": [
    "!docker run -it --rm mlops_hw_4"
   ]
  },
  {
   "cell_type": "markdown",
   "id": "8686d9dc",
   "metadata": {},
   "source": [
    "Answer: __12.83__"
   ]
  },
  {
   "cell_type": "code",
   "execution_count": null,
   "id": "1705f1ec",
   "metadata": {},
   "outputs": [],
   "source": []
  }
 ],
 "metadata": {
  "kernelspec": {
   "display_name": "Python 3 (ipykernel)",
   "language": "python",
   "name": "python3"
  },
  "language_info": {
   "codemirror_mode": {
    "name": "ipython",
    "version": 3
   },
   "file_extension": ".py",
   "mimetype": "text/x-python",
   "name": "python",
   "nbconvert_exporter": "python",
   "pygments_lexer": "ipython3",
   "version": "3.9.16"
  }
 },
 "nbformat": 4,
 "nbformat_minor": 5
}
