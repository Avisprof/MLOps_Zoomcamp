{
 "cells": [
  {
   "cell_type": "markdown",
   "id": "f6b5a594",
   "metadata": {},
   "source": [
    "https://github.com/DataTalksClub/mlops-zoomcamp/tree/main/cohorts/2023/02-experiment-tracking"
   ]
  },
  {
   "cell_type": "markdown",
   "id": "9ba55ee8",
   "metadata": {},
   "source": [
    "## Homework with Weights & Biases\n",
    "\n",
    "The goal of this homework is to get familiar with Weights & Biases for experiment tracking, model management, hyperparameter optimization, and many more."
   ]
  },
  {
   "cell_type": "markdown",
   "id": "aecdcbd1",
   "metadata": {},
   "source": [
    "# Q1. Install the Package\n",
    "\n",
    "To get started with Weights & Biases you'll need to install the appropriate Python package.\n",
    "\n",
    "For this we recommend creating a separate Python environment, for example, you can use [conda environments](https://docs.conda.io/projects/conda/en/latest/user-guide/getting-started.html#managing-envs), \n",
    "and then install the package there with `pip` or `conda`.\n",
    "\n",
    "Following are the libraries you need to install:\n",
    "\n",
    "* `pandas`\n",
    "* `matplotlib`\n",
    "* `scikit-learn`\n",
    "* `pyarrow`\n",
    "* `wandb`\n",
    "\n",
    "Once you installed the package, run the command `wandb --version` and check the output.\n",
    "\n",
    "What's the version that you have?"
   ]
  },
  {
   "cell_type": "code",
   "execution_count": 2,
   "id": "6ab6c547",
   "metadata": {},
   "outputs": [
    {
     "name": "stdout",
     "output_type": "stream",
     "text": [
      "wandb, version 0.15.3\r\n"
     ]
    }
   ],
   "source": [
    "!wandb --version"
   ]
  },
  {
   "cell_type": "markdown",
   "id": "d37e3b17",
   "metadata": {},
   "source": [
    "Answer: __0.15.3__"
   ]
  },
  {
   "cell_type": "markdown",
   "id": "fd1a0ab5",
   "metadata": {},
   "source": [
    "# Q2. Download and preprocess the data\n",
    "\n",
    "We'll use the Green Taxi Trip Records dataset to predict the amount of tips for each trip. \n",
    "\n",
    "Download the data for January, February and March 2022 in parquet format from [here](https://www1.nyc.gov/site/tlc/about/tlc-trip-record-data.page).\n",
    "\n",
    "Use the script `preprocess_data.py` located in the folder [`homework-wandb`](homework-wandb) to preprocess the data.\n",
    "\n",
    "The script will:\n",
    "\n",
    "* initialize a Weights & Biases run.\n",
    "* load the data from the folder `<TAXI_DATA_FOLDER>` (the folder where you have downloaded the data),\n",
    "* fit a `DictVectorizer` on the training set (January 2022 data),\n",
    "* save the preprocessed datasets and the `DictVectorizer` to your Weights & Biases dashboard as an artifact of type `preprocessed_dataset`.\n",
    "\n",
    "Your task is to download the datasets and then execute this command:\n",
    "\n",
    "```bash\n",
    "python preprocess_data.py \\\n",
    "  --wandb_project <WANDB_PROJECT_NAME> \\\n",
    "  --wandb_entity <WANDB_USERNAME> \\\n",
    "  --raw_data_path <TAXI_DATA_FOLDER> \\\n",
    "  --dest_path ./output\n",
    "```\n",
    "\n",
    "Tip: go to `02-experiment-tracking/homework-wandb/` folder before executing the command and change the value of `<WANDB_PROJECT_NAME>` to the name of your Weights & Biases project, `<WANDB_USERNAME>` to your Weights & Biases username, and `<TAXI_DATA_FOLDER>` to the location where you saved the data."
   ]
  },
  {
   "cell_type": "code",
   "execution_count": 4,
   "id": "907b5db5",
   "metadata": {},
   "outputs": [
    {
     "name": "stdout",
     "output_type": "stream",
     "text": [
      "\u001b[34m\u001b[1mwandb\u001b[0m: Currently logged in as: \u001b[33mavisprof\u001b[0m. Use \u001b[1m`wandb login --relogin`\u001b[0m to force relogin\n",
      "\u001b[34m\u001b[1mwandb\u001b[0m: wandb version 0.15.4 is available!  To upgrade, please run:\n",
      "\u001b[34m\u001b[1mwandb\u001b[0m:  $ pip install wandb --upgrade\n",
      "\u001b[34m\u001b[1mwandb\u001b[0m: Tracking run with wandb version 0.15.3\n",
      "\u001b[34m\u001b[1mwandb\u001b[0m: Run data is saved locally in \u001b[35m\u001b[1m/mnt/w/ml/mlops/homeworks/03-wandb/wandb/run-20230607_110247-bx4kyg4m\u001b[0m\n",
      "\u001b[34m\u001b[1mwandb\u001b[0m: Run \u001b[1m`wandb offline`\u001b[0m to turn off syncing.\n",
      "\u001b[34m\u001b[1mwandb\u001b[0m: Syncing run \u001b[33mwise-lake-1\u001b[0m\n",
      "\u001b[34m\u001b[1mwandb\u001b[0m: ⭐️ View project at \u001b[34m\u001b[4mhttps://wandb.ai/avisprof/mlops-green-taxi\u001b[0m\n",
      "\u001b[34m\u001b[1mwandb\u001b[0m: 🚀 View run at \u001b[34m\u001b[4mhttps://wandb.ai/avisprof/mlops-green-taxi/runs/bx4kyg4m\u001b[0m\n",
      "\u001b[34m\u001b[1mwandb\u001b[0m: Adding directory to artifact (./output)... Done. 0.1s\n",
      "\u001b[34m\u001b[1mwandb\u001b[0m: Waiting for W&B process to finish... \u001b[32m(success).\u001b[0m\n",
      "\u001b[34m\u001b[1mwandb\u001b[0m: 🚀 View run \u001b[33mwise-lake-1\u001b[0m at: \u001b[34m\u001b[4mhttps://wandb.ai/avisprof/mlops-green-taxi/runs/bx4kyg4m\u001b[0m\n",
      "\u001b[34m\u001b[1mwandb\u001b[0m: Synced 6 W&B file(s), 0 media file(s), 6 artifact file(s) and 0 other file(s)\n",
      "\u001b[34m\u001b[1mwandb\u001b[0m: Find logs at: \u001b[35m\u001b[1m./wandb/run-20230607_110247-bx4kyg4m/logs\u001b[0m\n"
     ]
    }
   ],
   "source": [
    "!python homework-wandb/preprocess_data.py \\\n",
    "    --wandb_project mlops-green-taxi \\\n",
    "    --wandb_entity avisprof \\\n",
    "    --raw_data_path ../../data \\\n",
    "    --dest_path ./output"
   ]
  },
  {
   "cell_type": "markdown",
   "id": "53f81ebd",
   "metadata": {},
   "source": [
    "Once you navigate to the `Files` tab of your artifact on your Weights & Biases page, what's the size of the saved `DictVectorizer` file?"
   ]
  },
  {
   "cell_type": "code",
   "execution_count": 6,
   "id": "1a92c0f9",
   "metadata": {},
   "outputs": [
    {
     "name": "stdout",
     "output_type": "stream",
     "text": [
      "-rwxrwxrwx 1 wsl wsl 151K Jun  7 11:02 dv.pkl\r\n"
     ]
    }
   ],
   "source": [
    "!ls -lah ./output | grep dv"
   ]
  },
  {
   "cell_type": "markdown",
   "id": "859c2eec",
   "metadata": {},
   "source": [
    "Answer: __154K__"
   ]
  },
  {
   "cell_type": "markdown",
   "id": "6eb3b30c",
   "metadata": {},
   "source": [
    "# Q3. Train a model with Weights & Biases logging\n",
    "\n",
    "We will train a `RandomForestRegressor` (from Scikit-Learn) on the taxi dataset.\n",
    "\n",
    "We have prepared the training script `train.py` for this exercise, which can be also found in the folder `homework-wandb`. \n",
    "\n",
    "The script will:\n",
    "\n",
    "* initialize a Weights & Biases run.\n",
    "* load the preprocessed datasets by fetching them from the Weights & Biases artifact previously created,\n",
    "* train the model on the training set,\n",
    "* calculate the MSE score on the validation set and log it to Weights & Biases,\n",
    "* save the trained model and log it to Weights & Biases as a model artifact.\n",
    "\n",
    "Your task is to modify the script to enable to add Weights & Biases logging, execute the script and then check the Weights & Biases run UI to check that the experiment run was properly tracked."
   ]
  },
  {
   "cell_type": "markdown",
   "id": "5abc700e",
   "metadata": {},
   "source": [
    "TODO 1: log `mse` to Weights & Biases under the key `\"MSE\"`\n",
    "\n",
    "`wandb.log({'MSE': mse})`"
   ]
  },
  {
   "cell_type": "markdown",
   "id": "f60227fe",
   "metadata": {},
   "source": [
    "TODO 2: log `regressor.pkl` as an artifact of type `model`, refer to the [official docs](https://docs.wandb.ai/guides/artifacts) in order to know more about logging artifacts.\n",
    "\n",
    "`artifact = wandb.Artifact('RandomForestRegressor', type='model')`\n",
    "<br>`artifact.add_file(\"regressor.pkl\")`\n",
    "<br>`wandb.log_artifact(artifact)`"
   ]
  },
  {
   "cell_type": "code",
   "execution_count": 8,
   "id": "0660c3da",
   "metadata": {},
   "outputs": [
    {
     "name": "stdout",
     "output_type": "stream",
     "text": [
      "\u001b[34m\u001b[1mwandb\u001b[0m: Currently logged in as: \u001b[33mavisprof\u001b[0m. Use \u001b[1m`wandb login --relogin`\u001b[0m to force relogin\n",
      "\u001b[34m\u001b[1mwandb\u001b[0m: wandb version 0.15.4 is available!  To upgrade, please run:\n",
      "\u001b[34m\u001b[1mwandb\u001b[0m:  $ pip install wandb --upgrade\n",
      "\u001b[34m\u001b[1mwandb\u001b[0m: Tracking run with wandb version 0.15.3\n",
      "\u001b[34m\u001b[1mwandb\u001b[0m: Run data is saved locally in \u001b[35m\u001b[1m/mnt/w/ml/mlops/homeworks/03-wandb/wandb/run-20230607_112028-8ug2crmo\u001b[0m\n",
      "\u001b[34m\u001b[1mwandb\u001b[0m: Run \u001b[1m`wandb offline`\u001b[0m to turn off syncing.\n",
      "\u001b[34m\u001b[1mwandb\u001b[0m: Syncing run \u001b[33mrosy-resonance-2\u001b[0m\n",
      "\u001b[34m\u001b[1mwandb\u001b[0m: ⭐️ View project at \u001b[34m\u001b[4mhttps://wandb.ai/avisprof/mlops-green-taxi\u001b[0m\n",
      "\u001b[34m\u001b[1mwandb\u001b[0m: 🚀 View run at \u001b[34m\u001b[4mhttps://wandb.ai/avisprof/mlops-green-taxi/runs/8ug2crmo\u001b[0m\n",
      "\u001b[34m\u001b[1mwandb\u001b[0m:   4 of 4 files downloaded.  \n",
      "\u001b[34m\u001b[1mwandb\u001b[0m: Waiting for W&B process to finish... \u001b[32m(success).\u001b[0m\n",
      "\u001b[34m\u001b[1mwandb\u001b[0m: \n",
      "\u001b[34m\u001b[1mwandb\u001b[0m: Run history:\n",
      "\u001b[34m\u001b[1mwandb\u001b[0m: MSE ▁\n",
      "\u001b[34m\u001b[1mwandb\u001b[0m: \n",
      "\u001b[34m\u001b[1mwandb\u001b[0m: Run summary:\n",
      "\u001b[34m\u001b[1mwandb\u001b[0m: MSE 2.45398\n",
      "\u001b[34m\u001b[1mwandb\u001b[0m: \n",
      "\u001b[34m\u001b[1mwandb\u001b[0m: 🚀 View run \u001b[33mrosy-resonance-2\u001b[0m at: \u001b[34m\u001b[4mhttps://wandb.ai/avisprof/mlops-green-taxi/runs/8ug2crmo\u001b[0m\n",
      "\u001b[34m\u001b[1mwandb\u001b[0m: Synced 6 W&B file(s), 0 media file(s), 3 artifact file(s) and 0 other file(s)\n",
      "\u001b[34m\u001b[1mwandb\u001b[0m: Find logs at: \u001b[35m\u001b[1m./wandb/run-20230607_112028-8ug2crmo/logs\u001b[0m\n"
     ]
    }
   ],
   "source": [
    "# Run the script\n",
    "!python homework-wandb/train.py \\\n",
    "  --wandb_project mlops-green-taxi \\\n",
    "  --wandb_entity avisprof \\\n",
    "  --data_artifact \"avisprof/mlops-green-taxi/NYC-Taxi:v0\""
   ]
  },
  {
   "cell_type": "markdown",
   "id": "5534bbc5",
   "metadata": {},
   "source": [
    "Once you have successfully ran the script, navigate the `Overview` section of the run in the Weights & Biases UI and scroll down to the `Configs`. What is the value of the `max_depth` parameter:"
   ]
  },
  {
   "attachments": {
    "image.png": {
     "image/png": "[encoded data removed]"
    }
   },
   "cell_type": "markdown",
   "id": "bf5fdd4c",
   "metadata": {},
   "source": [
    "![image.png](attachment:image.png)"
   ]
  },
  {
   "cell_type": "markdown",
   "id": "eb4b61c1",
   "metadata": {},
   "source": [
    "Answer: __10__"
   ]
  },
  {
   "cell_type": "markdown",
   "id": "c3fa9939",
   "metadata": {},
   "source": [
    "# Q4. Tune model hyperparameters\n",
    "\n",
    "Now let's try to reduce the validation error by tuning the hyperparameters of the `RandomForestRegressor` using [Weights & Biases Sweeps](https://docs.wandb.ai/guides/sweeps). We have prepared the script `sweep.py` for this exercise in the `homework-wandb` directory.\n",
    "\n",
    "Your task is to modify `sweep.py` to pass the parameters `n_estimators`, `min_samples_split` and `min_samples_leaf` from `config` to `RandomForestRegressor` inside the `run_train()` function. Then we will run the sweep to figure out not only the best best of hyperparameters for training our model, but also to analyze the most optimum trends in different hyperparameters."
   ]
  },
  {
   "cell_type": "code",
   "execution_count": 9,
   "id": "af125fa6",
   "metadata": {},
   "outputs": [
    {
     "name": "stdout",
     "output_type": "stream",
     "text": [
      "Create sweep with ID: 7a3d7uob\n",
      "Sweep URL: https://wandb.ai/avisprof/mlops-green-taxi/sweeps/7a3d7uob\n",
      "\u001b[34m\u001b[1mwandb\u001b[0m: Agent Starting Run: fb2mio3n with config:\n",
      "\u001b[34m\u001b[1mwandb\u001b[0m: \tmax_depth: 2\n",
      "\u001b[34m\u001b[1mwandb\u001b[0m: \tmin_samples_leaf: 4\n",
      "\u001b[34m\u001b[1mwandb\u001b[0m: \tmin_samples_split: 2\n",
      "\u001b[34m\u001b[1mwandb\u001b[0m: \tn_estimators: 21\n",
      "\u001b[34m\u001b[1mwandb\u001b[0m: Currently logged in as: \u001b[33mavisprof\u001b[0m. Use \u001b[1m`wandb login --relogin`\u001b[0m to force relogin\n",
      "\u001b[34m\u001b[1mwandb\u001b[0m: wandb version 0.15.4 is available!  To upgrade, please run:\n",
      "\u001b[34m\u001b[1mwandb\u001b[0m:  $ pip install wandb --upgrade\n",
      "\u001b[34m\u001b[1mwandb\u001b[0m: Tracking run with wandb version 0.15.3\n",
      "\u001b[34m\u001b[1mwandb\u001b[0m: Run data is saved locally in \u001b[35m\u001b[1m/mnt/w/ml/mlops/homeworks/03-wandb/wandb/run-20230607_112637-fb2mio3n\u001b[0m\n",
      "\u001b[34m\u001b[1mwandb\u001b[0m: Run \u001b[1m`wandb offline`\u001b[0m to turn off syncing.\n",
      "\u001b[34m\u001b[1mwandb\u001b[0m: Syncing run \u001b[33mfeasible-sweep-1\u001b[0m\n",
      "\u001b[34m\u001b[1mwandb\u001b[0m: ⭐️ View project at \u001b[34m\u001b[4mhttps://wandb.ai/avisprof/mlops-green-taxi\u001b[0m\n",
      "\u001b[34m\u001b[1mwandb\u001b[0m: 🧹 View sweep at \u001b[34m\u001b[4mhttps://wandb.ai/avisprof/mlops-green-taxi/sweeps/7a3d7uob\u001b[0m\n",
      "\u001b[34m\u001b[1mwandb\u001b[0m: 🚀 View run at \u001b[34m\u001b[4mhttps://wandb.ai/avisprof/mlops-green-taxi/runs/fb2mio3n\u001b[0m\n",
      "\u001b[34m\u001b[1mwandb\u001b[0m:   4 of 4 files downloaded.  \n",
      "\u001b[34m\u001b[1mwandb\u001b[0m: Waiting for W&B process to finish... \u001b[32m(success).\u001b[0m\n",
      "\u001b[34m\u001b[1mwandb\u001b[0m: \n",
      "\u001b[34m\u001b[1mwandb\u001b[0m: Run history:\n",
      "\u001b[34m\u001b[1mwandb\u001b[0m: MSE ▁\n",
      "\u001b[34m\u001b[1mwandb\u001b[0m: \n",
      "\u001b[34m\u001b[1mwandb\u001b[0m: Run summary:\n",
      "\u001b[34m\u001b[1mwandb\u001b[0m: MSE 2.48627\n",
      "\u001b[34m\u001b[1mwandb\u001b[0m: \n",
      "\u001b[34m\u001b[1mwandb\u001b[0m: 🚀 View run \u001b[33mfeasible-sweep-1\u001b[0m at: \u001b[34m\u001b[4mhttps://wandb.ai/avisprof/mlops-green-taxi/runs/fb2mio3n\u001b[0m\n",
      "\u001b[34m\u001b[1mwandb\u001b[0m: Synced 6 W&B file(s), 0 media file(s), 1 artifact file(s) and 0 other file(s)\n",
      "\u001b[34m\u001b[1mwandb\u001b[0m: Find logs at: \u001b[35m\u001b[1m./wandb/run-20230607_112637-fb2mio3n/logs\u001b[0m\n",
      "\u001b[34m\u001b[1mwandb\u001b[0m: Sweep Agent: Waiting for job.\n",
      "\u001b[34m\u001b[1mwandb\u001b[0m: Job received.\n",
      "\u001b[34m\u001b[1mwandb\u001b[0m: Agent Starting Run: i6noycan with config:\n",
      "\u001b[34m\u001b[1mwandb\u001b[0m: \tmax_depth: 20\n",
      "\u001b[34m\u001b[1mwandb\u001b[0m: \tmin_samples_leaf: 1\n",
      "\u001b[34m\u001b[1mwandb\u001b[0m: \tmin_samples_split: 9\n",
      "\u001b[34m\u001b[1mwandb\u001b[0m: \tn_estimators: 36\n",
      "\u001b[34m\u001b[1mwandb\u001b[0m: wandb version 0.15.4 is available!  To upgrade, please run:\n",
      "\u001b[34m\u001b[1mwandb\u001b[0m:  $ pip install wandb --upgrade\n",
      "\u001b[34m\u001b[1mwandb\u001b[0m: Tracking run with wandb version 0.15.3\n",
      "\u001b[34m\u001b[1mwandb\u001b[0m: Run data is saved locally in \u001b[35m\u001b[1m/mnt/w/ml/mlops/homeworks/03-wandb/wandb/run-20230607_112709-i6noycan\u001b[0m\n",
      "\u001b[34m\u001b[1mwandb\u001b[0m: Run \u001b[1m`wandb offline`\u001b[0m to turn off syncing.\n",
      "\u001b[34m\u001b[1mwandb\u001b[0m: Syncing run \u001b[33mclear-sweep-2\u001b[0m\n",
      "\u001b[34m\u001b[1mwandb\u001b[0m: ⭐️ View project at \u001b[34m\u001b[4mhttps://wandb.ai/avisprof/mlops-green-taxi\u001b[0m\n",
      "\u001b[34m\u001b[1mwandb\u001b[0m: 🧹 View sweep at \u001b[34m\u001b[4mhttps://wandb.ai/avisprof/mlops-green-taxi/sweeps/7a3d7uob\u001b[0m\n",
      "\u001b[34m\u001b[1mwandb\u001b[0m: 🚀 View run at \u001b[34m\u001b[4mhttps://wandb.ai/avisprof/mlops-green-taxi/runs/i6noycan\u001b[0m\n",
      "\u001b[34m\u001b[1mwandb\u001b[0m:   4 of 4 files downloaded.  \n",
      "\u001b[34m\u001b[1mwandb\u001b[0m: Waiting for W&B process to finish... \u001b[32m(success).\u001b[0m\n",
      "\u001b[34m\u001b[1mwandb\u001b[0m: \n",
      "\u001b[34m\u001b[1mwandb\u001b[0m: Run history:\n",
      "\u001b[34m\u001b[1mwandb\u001b[0m: MSE ▁\n",
      "\u001b[34m\u001b[1mwandb\u001b[0m: \n",
      "\u001b[34m\u001b[1mwandb\u001b[0m: Run summary:\n",
      "\u001b[34m\u001b[1mwandb\u001b[0m: MSE 2.45354\n",
      "\u001b[34m\u001b[1mwandb\u001b[0m: \n",
      "\u001b[34m\u001b[1mwandb\u001b[0m: 🚀 View run \u001b[33mclear-sweep-2\u001b[0m at: \u001b[34m\u001b[4mhttps://wandb.ai/avisprof/mlops-green-taxi/runs/i6noycan\u001b[0m\n",
      "\u001b[34m\u001b[1mwandb\u001b[0m: Synced 6 W&B file(s), 0 media file(s), 1 artifact file(s) and 0 other file(s)\n",
      "\u001b[34m\u001b[1mwandb\u001b[0m: Find logs at: \u001b[35m\u001b[1m./wandb/run-20230607_112709-i6noycan/logs\u001b[0m\n",
      "\u001b[34m\u001b[1mwandb\u001b[0m: Agent Starting Run: wlk5vj8n with config:\n",
      "\u001b[34m\u001b[1mwandb\u001b[0m: \tmax_depth: 9\n",
      "\u001b[34m\u001b[1mwandb\u001b[0m: \tmin_samples_leaf: 3\n",
      "\u001b[34m\u001b[1mwandb\u001b[0m: \tmin_samples_split: 4\n",
      "\u001b[34m\u001b[1mwandb\u001b[0m: \tn_estimators: 38\n",
      "\u001b[34m\u001b[1mwandb\u001b[0m: wandb version 0.15.4 is available!  To upgrade, please run:\n",
      "\u001b[34m\u001b[1mwandb\u001b[0m:  $ pip install wandb --upgrade\n",
      "\u001b[34m\u001b[1mwandb\u001b[0m: Tracking run with wandb version 0.15.3\n",
      "\u001b[34m\u001b[1mwandb\u001b[0m: Run data is saved locally in \u001b[35m\u001b[1m/mnt/w/ml/mlops/homeworks/03-wandb/wandb/run-20230607_112802-wlk5vj8n\u001b[0m\n",
      "\u001b[34m\u001b[1mwandb\u001b[0m: Run \u001b[1m`wandb offline`\u001b[0m to turn off syncing.\n",
      "\u001b[34m\u001b[1mwandb\u001b[0m: Syncing run \u001b[33mdeft-sweep-3\u001b[0m\n",
      "\u001b[34m\u001b[1mwandb\u001b[0m: ⭐️ View project at \u001b[34m\u001b[4mhttps://wandb.ai/avisprof/mlops-green-taxi\u001b[0m\n",
      "\u001b[34m\u001b[1mwandb\u001b[0m: 🧹 View sweep at \u001b[34m\u001b[4mhttps://wandb.ai/avisprof/mlops-green-taxi/sweeps/7a3d7uob\u001b[0m\n",
      "\u001b[34m\u001b[1mwandb\u001b[0m: 🚀 View run at \u001b[34m\u001b[4mhttps://wandb.ai/avisprof/mlops-green-taxi/runs/wlk5vj8n\u001b[0m\n",
      "\u001b[34m\u001b[1mwandb\u001b[0m:   4 of 4 files downloaded.  \n",
      "\u001b[34m\u001b[1mwandb\u001b[0m: Waiting for W&B process to finish... \u001b[32m(success).\u001b[0m\n",
      "\u001b[34m\u001b[1mwandb\u001b[0m: \n",
      "\u001b[34m\u001b[1mwandb\u001b[0m: Run history:\n",
      "\u001b[34m\u001b[1mwandb\u001b[0m: MSE ▁\n",
      "\u001b[34m\u001b[1mwandb\u001b[0m: \n",
      "\u001b[34m\u001b[1mwandb\u001b[0m: Run summary:\n",
      "\u001b[34m\u001b[1mwandb\u001b[0m: MSE 2.45451\n",
      "\u001b[34m\u001b[1mwandb\u001b[0m: \n",
      "\u001b[34m\u001b[1mwandb\u001b[0m: 🚀 View run \u001b[33mdeft-sweep-3\u001b[0m at: \u001b[34m\u001b[4mhttps://wandb.ai/avisprof/mlops-green-taxi/runs/wlk5vj8n\u001b[0m\n",
      "\u001b[34m\u001b[1mwandb\u001b[0m: Synced 6 W&B file(s), 0 media file(s), 1 artifact file(s) and 0 other file(s)\n",
      "\u001b[34m\u001b[1mwandb\u001b[0m: Find logs at: \u001b[35m\u001b[1m./wandb/run-20230607_112802-wlk5vj8n/logs\u001b[0m\n",
      "\u001b[34m\u001b[1mwandb\u001b[0m: Agent Starting Run: o7buyijf with config:\n",
      "\u001b[34m\u001b[1mwandb\u001b[0m: \tmax_depth: 9\n",
      "\u001b[34m\u001b[1mwandb\u001b[0m: \tmin_samples_leaf: 4\n",
      "\u001b[34m\u001b[1mwandb\u001b[0m: \tmin_samples_split: 5\n",
      "\u001b[34m\u001b[1mwandb\u001b[0m: \tn_estimators: 43\n",
      "\u001b[34m\u001b[1mwandb\u001b[0m: wandb version 0.15.4 is available!  To upgrade, please run:\n",
      "\u001b[34m\u001b[1mwandb\u001b[0m:  $ pip install wandb --upgrade\n",
      "\u001b[34m\u001b[1mwandb\u001b[0m: Tracking run with wandb version 0.15.3\n",
      "\u001b[34m\u001b[1mwandb\u001b[0m: Run data is saved locally in \u001b[35m\u001b[1m/mnt/w/ml/mlops/homeworks/03-wandb/wandb/run-20230607_112834-o7buyijf\u001b[0m\n",
      "\u001b[34m\u001b[1mwandb\u001b[0m: Run \u001b[1m`wandb offline`\u001b[0m to turn off syncing.\n",
      "\u001b[34m\u001b[1mwandb\u001b[0m: Syncing run \u001b[33mflowing-sweep-4\u001b[0m\n",
      "\u001b[34m\u001b[1mwandb\u001b[0m: ⭐️ View project at \u001b[34m\u001b[4mhttps://wandb.ai/avisprof/mlops-green-taxi\u001b[0m\n",
      "\u001b[34m\u001b[1mwandb\u001b[0m: 🧹 View sweep at \u001b[34m\u001b[4mhttps://wandb.ai/avisprof/mlops-green-taxi/sweeps/7a3d7uob\u001b[0m\n",
      "\u001b[34m\u001b[1mwandb\u001b[0m: 🚀 View run at \u001b[34m\u001b[4mhttps://wandb.ai/avisprof/mlops-green-taxi/runs/o7buyijf\u001b[0m\n",
      "\u001b[34m\u001b[1mwandb\u001b[0m:   4 of 4 files downloaded.  \n",
      "\u001b[34m\u001b[1mwandb\u001b[0m: Waiting for W&B process to finish... \u001b[32m(success).\u001b[0m\n",
      "\u001b[34m\u001b[1mwandb\u001b[0m: \n",
      "\u001b[34m\u001b[1mwandb\u001b[0m: Run history:\n",
      "\u001b[34m\u001b[1mwandb\u001b[0m: MSE ▁\n",
      "\u001b[34m\u001b[1mwandb\u001b[0m: \n",
      "\u001b[34m\u001b[1mwandb\u001b[0m: Run summary:\n",
      "\u001b[34m\u001b[1mwandb\u001b[0m: MSE 2.45451\n",
      "\u001b[34m\u001b[1mwandb\u001b[0m: \n",
      "\u001b[34m\u001b[1mwandb\u001b[0m: 🚀 View run \u001b[33mflowing-sweep-4\u001b[0m at: \u001b[34m\u001b[4mhttps://wandb.ai/avisprof/mlops-green-taxi/runs/o7buyijf\u001b[0m\n",
      "\u001b[34m\u001b[1mwandb\u001b[0m: Synced 6 W&B file(s), 0 media file(s), 1 artifact file(s) and 0 other file(s)\n",
      "\u001b[34m\u001b[1mwandb\u001b[0m: Find logs at: \u001b[35m\u001b[1m./wandb/run-20230607_112834-o7buyijf/logs\u001b[0m\n",
      "\u001b[34m\u001b[1mwandb\u001b[0m: Agent Starting Run: 9e2wx9a8 with config:\n",
      "\u001b[34m\u001b[1mwandb\u001b[0m: \tmax_depth: 14\n",
      "\u001b[34m\u001b[1mwandb\u001b[0m: \tmin_samples_leaf: 4\n",
      "\u001b[34m\u001b[1mwandb\u001b[0m: \tmin_samples_split: 7\n",
      "\u001b[34m\u001b[1mwandb\u001b[0m: \tn_estimators: 44\n",
      "\u001b[34m\u001b[1mwandb\u001b[0m: wandb version 0.15.4 is available!  To upgrade, please run:\n",
      "\u001b[34m\u001b[1mwandb\u001b[0m:  $ pip install wandb --upgrade\n",
      "\u001b[34m\u001b[1mwandb\u001b[0m: Tracking run with wandb version 0.15.3\n",
      "\u001b[34m\u001b[1mwandb\u001b[0m: Run data is saved locally in \u001b[35m\u001b[1m/mnt/w/ml/mlops/homeworks/03-wandb/wandb/run-20230607_112900-9e2wx9a8\u001b[0m\n",
      "\u001b[34m\u001b[1mwandb\u001b[0m: Run \u001b[1m`wandb offline`\u001b[0m to turn off syncing.\n",
      "\u001b[34m\u001b[1mwandb\u001b[0m: Syncing run \u001b[33mlight-sweep-5\u001b[0m\n",
      "\u001b[34m\u001b[1mwandb\u001b[0m: ⭐️ View project at \u001b[34m\u001b[4mhttps://wandb.ai/avisprof/mlops-green-taxi\u001b[0m\n",
      "\u001b[34m\u001b[1mwandb\u001b[0m: 🧹 View sweep at \u001b[34m\u001b[4mhttps://wandb.ai/avisprof/mlops-green-taxi/sweeps/7a3d7uob\u001b[0m\n",
      "\u001b[34m\u001b[1mwandb\u001b[0m: 🚀 View run at \u001b[34m\u001b[4mhttps://wandb.ai/avisprof/mlops-green-taxi/runs/9e2wx9a8\u001b[0m\n",
      "\u001b[34m\u001b[1mwandb\u001b[0m:   4 of 4 files downloaded.  \n",
      "\u001b[34m\u001b[1mwandb\u001b[0m: Waiting for W&B process to finish... \u001b[32m(success).\u001b[0m\n",
      "\u001b[34m\u001b[1mwandb\u001b[0m: \n",
      "\u001b[34m\u001b[1mwandb\u001b[0m: Run history:\n",
      "\u001b[34m\u001b[1mwandb\u001b[0m: MSE ▁\n",
      "\u001b[34m\u001b[1mwandb\u001b[0m: \n",
      "\u001b[34m\u001b[1mwandb\u001b[0m: Run summary:\n",
      "\u001b[34m\u001b[1mwandb\u001b[0m: MSE 2.45316\n",
      "\u001b[34m\u001b[1mwandb\u001b[0m: \n",
      "\u001b[34m\u001b[1mwandb\u001b[0m: 🚀 View run \u001b[33mlight-sweep-5\u001b[0m at: \u001b[34m\u001b[4mhttps://wandb.ai/avisprof/mlops-green-taxi/runs/9e2wx9a8\u001b[0m\n",
      "\u001b[34m\u001b[1mwandb\u001b[0m: Synced 6 W&B file(s), 0 media file(s), 1 artifact file(s) and 0 other file(s)\n",
      "\u001b[34m\u001b[1mwandb\u001b[0m: Find logs at: \u001b[35m\u001b[1m./wandb/run-20230607_112900-9e2wx9a8/logs\u001b[0m\n"
     ]
    }
   ],
   "source": [
    "# Run the sweep using:\n",
    "!python homework-wandb/sweep.py \\\n",
    "    --wandb_project mlops-green-taxi \\\n",
    "    --wandb_entity avisprof \\\n",
    "    --data_artifact \"avisprof/mlops-green-taxi/NYC-Taxi:v0\""
   ]
  },
  {
   "cell_type": "markdown",
   "id": "b2d1267a",
   "metadata": {},
   "source": [
    "This command will run the sweep for 5 iterations using the **Bayesian Optimization and HyperBand** method proposed by the paper [BOHB: Robust and Efficient Hyperparameter Optimization at Scale](https://arxiv.org/abs/1807.01774). You can take a look at the sweep on your Weights & Biases dashboard, take a look at the **Parameter Inportance Panel** and the **Parallel Coordinates Plot** to determine, and analyze which hyperparameter is the most important:"
   ]
  },
  {
   "attachments": {
    "image.png": {
     "image/png": "[encoded data removed]"
    }
   },
   "cell_type": "markdown",
   "id": "79c8c43b",
   "metadata": {},
   "source": [
    "![image.png](attachment:image.png)"
   ]
  },
  {
   "cell_type": "markdown",
   "id": "c55fc8f7",
   "metadata": {},
   "source": [
    "Answer: __n_estimators__"
   ]
  },
  {
   "cell_type": "markdown",
   "id": "90c02d7a",
   "metadata": {},
   "source": [
    "# Q5. Link the best model to the model registry\n",
    "\n",
    "Now that we have obtained the optimal set of hyperparameters and trained the best model, we can assume that we are ready to test some of these models in production. In this exercise, you'll create a model registry and link the best model from the Sweep to the model registry.\n",
    "\n",
    "First, you will need to create a Registered Model to hold all the candidate models for your particular modeling task. You can refer to [this section](https://docs.wandb.ai/guides/models/walkthrough#1-create-a-new-registered-model) of the official docs to learn how to create a registered model using the Weights & Biases UI.\n",
    "\n",
    "Once you have created the Registered Model successfully, you can navigate to the best run of your sweep, navigate to the model artifact created by the particular run, and click on the Link to Registry option from the UI. This would link the model artifact to the Registered Model. You can choose to add some suitable aliases for the Registered Model, such as `production`, `best`, etc.\n",
    "\n",
    "Now that the model artifact is linked to the Registered Model, which of these information do we see on the Registered Model UI?\n",
    "\n",
    "* Versioning\n",
    "* Metadata\n",
    "* Aliases\n",
    "* Metric (MSE)\n",
    "* Source run\n",
    "* All of these\n",
    "* None of these"
   ]
  },
  {
   "attachments": {
    "image.png": {
     "image/png": "[encoded data removed]"
    }
   },
   "cell_type": "markdown",
   "id": "d721e355",
   "metadata": {},
   "source": [
    "![image.png](attachment:image.png)"
   ]
  },
  {
   "cell_type": "markdown",
   "id": "3a127f3d",
   "metadata": {},
   "source": [
    "Answer: __All of these__"
   ]
  },
  {
   "cell_type": "code",
   "execution_count": null,
   "id": "7e8972da",
   "metadata": {},
   "outputs": [],
   "source": []
  }
 ],
 "metadata": {
  "kernelspec": {
   "display_name": "Python 3 (ipykernel)",
   "language": "python",
   "name": "python3"
  },
  "language_info": {
   "codemirror_mode": {
    "name": "ipython",
    "version": 3
   },
   "file_extension": ".py",
   "mimetype": "text/x-python",
   "name": "python",
   "nbconvert_exporter": "python",
   "pygments_lexer": "ipython3",
   "version": "3.9.16"
  }
 },
 "nbformat": 4,
 "nbformat_minor": 5
}
