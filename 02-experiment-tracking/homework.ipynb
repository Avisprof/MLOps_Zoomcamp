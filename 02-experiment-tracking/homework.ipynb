{
 "cells": [
  {
   "cell_type": "markdown",
   "id": "5ac3c1c8",
   "metadata": {},
   "source": [
    "https://github.com/DataTalksClub/mlops-zoomcamp/blob/main/cohorts/2023/02-experiment-tracking/homework.md"
   ]
  },
  {
   "cell_type": "markdown",
   "id": "fcfd829e",
   "metadata": {},
   "source": [
    "The goal of this homework is to get familiar with tools like MLflow for experiment tracking and model management"
   ]
  },
  {
   "cell_type": "code",
   "execution_count": 1,
   "id": "7338648b",
   "metadata": {},
   "outputs": [],
   "source": [
    "from mlflow.tracking import MlflowClient"
   ]
  },
  {
   "cell_type": "markdown",
   "id": "cc03cd6d",
   "metadata": {},
   "source": [
    "# Q1. Install the package"
   ]
  },
  {
   "cell_type": "markdown",
   "id": "971f2fdd",
   "metadata": {},
   "source": [
    "run the command mlflow --version and check the output.\n",
    "\n",
    "What's the version that you have?"
   ]
  },
  {
   "cell_type": "code",
   "execution_count": 2,
   "id": "7b0b7245",
   "metadata": {},
   "outputs": [
    {
     "name": "stdout",
     "output_type": "stream",
     "text": [
      "mlflow, version 2.3.2\r\n"
     ]
    }
   ],
   "source": [
    "!mlflow --version"
   ]
  },
  {
   "cell_type": "markdown",
   "id": "abd38d39",
   "metadata": {},
   "source": [
    "Answer: __2.3.2__ version of mlflow"
   ]
  },
  {
   "cell_type": "markdown",
   "id": "4710eb28",
   "metadata": {},
   "source": [
    "# Q2. Download and preprocess the data"
   ]
  },
  {
   "cell_type": "markdown",
   "id": "d7ba6e43",
   "metadata": {},
   "source": [
    "We'll use the Green Taxi Trip Records dataset to predict the amount of tips for each trip.\n",
    "\n",
    "Download the data for January, February and March 2022 in parquet format from [here](https://www1.nyc.gov/site/tlc/about/tlc-trip-record-data.page).\n",
    "\n",
    "Use the script `preprocess_data.py` located in the folder homework to preprocess the data.\n",
    "\n",
    "The script will:\n",
    "\n",
    "* load the data from the folder `<TAXI_DATA_FOLDER>` (the folder where you have downloaded the data),\n",
    "* fit a `DictVectorizer` on the training set (January 2022 data),\n",
    "* save the preprocessed datasets and the `DictVectorizer` to disk.\n",
    "\n",
    "Your task is to download the datasets and then execute this command:\n",
    "\n",
    "`python preprocess_data.py --raw_data_path <TAXI_DATA_FOLDER> --dest_path ./output`\n",
    "\n",
    "Tip: go to `02-experiment-tracking/homework/` folder before executing the command and change the value of <TAXI_DATA_FOLDER> to the location where you saved the data.\n",
    "\n",
    "So what's the size of the saved DictVectorizer file?"
   ]
  },
  {
   "cell_type": "code",
   "execution_count": 3,
   "id": "9b102ff0",
   "metadata": {},
   "outputs": [],
   "source": [
    "!python homework/preprocess_data.py --raw_data_path ../../data --dest_path ./output"
   ]
  },
  {
   "cell_type": "code",
   "execution_count": 4,
   "id": "82a1459b",
   "metadata": {},
   "outputs": [
    {
     "name": "stdout",
     "output_type": "stream",
     "text": [
      "total 7.0M\r\n",
      "drwxrwxrwx 1 wsl wsl 4.0K Jun  1 23:04 \u001b[0m\u001b[34;42m.\u001b[0m/\r\n",
      "drwxrwxrwx 1 wsl wsl 4.0K Jun  1 23:04 \u001b[34;42m..\u001b[0m/\r\n",
      "-rwxrwxrwx 1 wsl wsl 151K Jun  1 23:04 \u001b[01;32mdv.pkl\u001b[0m*\r\n",
      "-rwxrwxrwx 1 wsl wsl 2.6M Jun  1 23:04 \u001b[01;32mtest.pkl\u001b[0m*\r\n",
      "-rwxrwxrwx 1 wsl wsl 2.1M Jun  1 23:04 \u001b[01;32mtrain.pkl\u001b[0m*\r\n",
      "-rwxrwxrwx 1 wsl wsl 2.3M Jun  1 23:04 \u001b[01;32mval.pkl\u001b[0m*\r\n"
     ]
    }
   ],
   "source": [
    "ls -lah ./output"
   ]
  },
  {
   "cell_type": "markdown",
   "id": "9f548aea",
   "metadata": {},
   "source": [
    "Answer: __154 kB__ size of the saved DictVectorizer file"
   ]
  },
  {
   "cell_type": "markdown",
   "id": "629b8fdd",
   "metadata": {},
   "source": [
    "# Q3. Train a model with autolog"
   ]
  },
  {
   "cell_type": "markdown",
   "id": "8373f2cd",
   "metadata": {},
   "source": [
    "We will train a `RandomForestRegressor` (from Scikit-Learn) on the taxi dataset.\n",
    "\n",
    "We have prepared the training script `train.py` for this exercise, which can be also found in the folder `homework`.\n",
    "\n",
    "The script will:\n",
    "\n",
    "* load the datasets produced by the previous step,\n",
    "* train the model on the training set,\n",
    "* calculate the RMSE score on the validation set.\n",
    "\n",
    "Your task is to modify the script to enable autologging with MLflow, execute the script and then launch the MLflow UI to check that the experiment run was properly tracked.\n",
    "\n",
    "Tip 1: don't forget to wrap the training code with a `with mlflow.start_run():` statement as we showed in the videos.\n",
    "\n",
    "Tip 2: don't modify the hyperparameters of the model to make sure that the training will finish quickly.\n",
    "\n",
    "What is the value of the `max_depth` parameter:"
   ]
  },
  {
   "cell_type": "code",
   "execution_count": 5,
   "id": "9f958525",
   "metadata": {},
   "outputs": [],
   "source": [
    "# added strings to train.py\n",
    "#mlflow.sklearn.autolog()\n",
    "#with mlflow.start_run():"
   ]
  },
  {
   "cell_type": "code",
   "execution_count": 6,
   "id": "3bebb65d",
   "metadata": {},
   "outputs": [
    {
     "name": "stdout",
     "output_type": "stream",
     "text": [
      "2023/06/01 23:06:02 WARNING mlflow.utils.autologging_utils: MLflow autologging encountered a warning: \"/home/wsl/miniconda3/envs/mlops/lib/python3.9/site-packages/_distutils_hack/__init__.py:33: UserWarning: Setuptools is replacing distutils.\"\r\n"
     ]
    }
   ],
   "source": [
    "!python homework/train.py "
   ]
  },
  {
   "cell_type": "code",
   "execution_count": 7,
   "id": "7928323e",
   "metadata": {},
   "outputs": [],
   "source": [
    "client = MlflowClient()"
   ]
  },
  {
   "cell_type": "code",
   "execution_count": 8,
   "id": "bb4bb402",
   "metadata": {},
   "outputs": [
    {
     "data": {
      "text/plain": [
       "'10'"
      ]
     },
     "execution_count": 8,
     "metadata": {},
     "output_type": "execute_result"
    }
   ],
   "source": [
    "client.search_runs(experiment_ids='0')[0].data.params['max_depth']"
   ]
  },
  {
   "cell_type": "markdown",
   "id": "65d35c55",
   "metadata": {},
   "source": [
    "Answer: __10__ (max_depth parameter)"
   ]
  },
  {
   "cell_type": "markdown",
   "id": "98d5137e",
   "metadata": {},
   "source": [
    "## Launch the tracking server locally for MLflow"
   ]
  },
  {
   "cell_type": "markdown",
   "id": "7b124a63",
   "metadata": {},
   "source": [
    "Now we want to manage the entire lifecycle of our ML model. In this step, you'll need to launch a tracking server. This way we will also have access to the model registry.\n",
    "\n",
    "In case of MLflow, you need to:\n",
    "\n",
    "* launch the tracking server on your local machine,\n",
    "* select a SQLite db for the backend store and a folder called artifacts for the artifacts store.\n",
    "\n",
    "You should keep the tracking server running to work on the next three exercises that use the server."
   ]
  },
  {
   "cell_type": "markdown",
   "id": "9da40fe7",
   "metadata": {},
   "source": [
    "### launch a tracking server\n",
    "\n",
    "`mlflow server --backend-store-uri sqlite:///mlflow.db --default-artifact-root ./artifacts`"
   ]
  },
  {
   "cell_type": "markdown",
   "id": "dd94c928",
   "metadata": {},
   "source": [
    "# Q4. Tune model hyperparameters"
   ]
  },
  {
   "cell_type": "markdown",
   "id": "db6cd57a",
   "metadata": {},
   "source": [
    "Now let's try to reduce the validation error by tuning the hyperparameters of the `RandomForestRegressor` using `optuna`. We have prepared the script `hpo.py` for this exercise.\n",
    "\n",
    "Your task is to modify the script `hpo.py` and make sure that the validation RMSE is logged to the tracking server for each run of the hyperparameter optimization (you will need to add a few lines of code to the `objective` function) and run the script without passing any parameters.\n",
    "\n",
    "After that, open UI and explore the runs from the experiment called `random-forest-hyperopt` to answer the question below.\n",
    "\n",
    "Note: Don't use autologging for this exercise.\n",
    "\n",
    "The idea is to just log the information that you need to answer the question below, including:\n",
    "\n",
    "* the list of hyperparameters that are passed to the `objective` function during the optimization,\n",
    "* the RMSE obtained on the validation set (February 2022 data).\n",
    "\n",
    "What's the best validation RMSE that you got?"
   ]
  },
  {
   "cell_type": "code",
   "execution_count": 9,
   "id": "5fe7aa37",
   "metadata": {},
   "outputs": [],
   "source": [
    "# added strings to hpo.py\n",
    "# with mlflow.start_run():\n",
    "#    mlflow.log_params(params)\n",
    "#    mlflow.log_metric('rmse', rmse)"
   ]
  },
  {
   "cell_type": "code",
   "execution_count": 10,
   "id": "6172a2f1",
   "metadata": {},
   "outputs": [
    {
     "name": "stdout",
     "output_type": "stream",
     "text": [
      "2023/06/01 23:07:05 INFO mlflow.tracking.fluent: Experiment with name 'random-forest-hyperopt' does not exist. Creating a new experiment.\n",
      "\u001b[32m[I 2023-06-01 23:07:06,274]\u001b[0m A new study created in memory with name: no-name-03fe5af5-c97b-4d74-b84c-653b0a82bbea\u001b[0m\n",
      "\u001b[32m[I 2023-06-01 23:07:10,882]\u001b[0m Trial 0 finished with value: 2.451379690825458 and parameters: {'n_estimators': 25, 'max_depth': 20, 'min_samples_split': 8, 'min_samples_leaf': 3}. Best is trial 0 with value: 2.451379690825458.\u001b[0m\n",
      "\u001b[32m[I 2023-06-01 23:07:11,867]\u001b[0m Trial 1 finished with value: 2.4667366020368333 and parameters: {'n_estimators': 16, 'max_depth': 4, 'min_samples_split': 2, 'min_samples_leaf': 4}. Best is trial 0 with value: 2.451379690825458.\u001b[0m\n",
      "\u001b[32m[I 2023-06-01 23:07:15,616]\u001b[0m Trial 2 finished with value: 2.449827329704216 and parameters: {'n_estimators': 34, 'max_depth': 15, 'min_samples_split': 2, 'min_samples_leaf': 4}. Best is trial 2 with value: 2.449827329704216.\u001b[0m\n",
      "\u001b[32m[I 2023-06-01 23:07:17,217]\u001b[0m Trial 3 finished with value: 2.460983516558473 and parameters: {'n_estimators': 44, 'max_depth': 5, 'min_samples_split': 3, 'min_samples_leaf': 1}. Best is trial 2 with value: 2.449827329704216.\u001b[0m\n",
      "\u001b[32m[I 2023-06-01 23:07:19,268]\u001b[0m Trial 4 finished with value: 2.453877262701052 and parameters: {'n_estimators': 22, 'max_depth': 11, 'min_samples_split': 5, 'min_samples_leaf': 2}. Best is trial 2 with value: 2.449827329704216.\u001b[0m\n",
      "\u001b[32m[I 2023-06-01 23:07:20,521]\u001b[0m Trial 5 finished with value: 2.4720122094960733 and parameters: {'n_estimators': 35, 'max_depth': 3, 'min_samples_split': 4, 'min_samples_leaf': 2}. Best is trial 2 with value: 2.449827329704216.\u001b[0m\n",
      "\u001b[32m[I 2023-06-01 23:07:25,173]\u001b[0m Trial 6 finished with value: 2.4516421799356767 and parameters: {'n_estimators': 28, 'max_depth': 16, 'min_samples_split': 3, 'min_samples_leaf': 3}. Best is trial 2 with value: 2.449827329704216.\u001b[0m\n",
      "\u001b[32m[I 2023-06-01 23:07:26,146]\u001b[0m Trial 7 finished with value: 2.5374040268274087 and parameters: {'n_estimators': 34, 'max_depth': 1, 'min_samples_split': 7, 'min_samples_leaf': 1}. Best is trial 2 with value: 2.449827329704216.\u001b[0m\n",
      "\u001b[32m[I 2023-06-01 23:07:28,731]\u001b[0m Trial 8 finished with value: 2.455971238567075 and parameters: {'n_estimators': 12, 'max_depth': 19, 'min_samples_split': 10, 'min_samples_leaf': 4}. Best is trial 2 with value: 2.449827329704216.\u001b[0m\n",
      "\u001b[32m[I 2023-06-01 23:07:29,517]\u001b[0m Trial 9 finished with value: 2.486106021576535 and parameters: {'n_estimators': 22, 'max_depth': 2, 'min_samples_split': 8, 'min_samples_leaf': 2}. Best is trial 2 with value: 2.449827329704216.\u001b[0m\n"
     ]
    }
   ],
   "source": [
    "!python homework/hpo.py"
   ]
  },
  {
   "cell_type": "code",
   "execution_count": 11,
   "id": "d4651609",
   "metadata": {},
   "outputs": [],
   "source": [
    "MLFLOW_TRACKING_URI = 'sqlite:///mlflow.db'\n",
    "client = MlflowClient(MLFLOW_TRACKING_URI)"
   ]
  },
  {
   "cell_type": "code",
   "execution_count": 12,
   "id": "98d09837",
   "metadata": {},
   "outputs": [
    {
     "name": "stdout",
     "output_type": "stream",
     "text": [
      "run name: trusting-flea-861, score: 2.449827329704216\n",
      "run name: abrasive-snipe-511, score: 2.451379690825458\n",
      "run name: awesome-owl-262, score: 2.4516421799356767\n",
      "run name: capable-auk-441, score: 2.453877262701052\n",
      "run name: merciful-pig-895, score: 2.455971238567075\n"
     ]
    }
   ],
   "source": [
    "runs = client.search_runs(experiment_ids=1,\n",
    "                         max_results=5,\n",
    "                         order_by=['metrics.rmse ASC'])\n",
    "\n",
    "for run in runs:\n",
    "    print(f\"run name: {run.info.run_name}, score: {run.data.metrics['rmse']}\")"
   ]
  },
  {
   "attachments": {
    "image.png": {
     "image/png": "[encoded data removed]"
    }
   },
   "cell_type": "markdown",
   "id": "d0f939d3",
   "metadata": {},
   "source": [
    "![image.png](attachment:image.png)"
   ]
  },
  {
   "cell_type": "markdown",
   "id": "fb78586d",
   "metadata": {},
   "source": [
    "Answer: __2.45__ best RMSE with hyperopt"
   ]
  },
  {
   "cell_type": "markdown",
   "id": "d031103c",
   "metadata": {},
   "source": [
    "# Q5. Promote the best model to the model registry"
   ]
  },
  {
   "cell_type": "markdown",
   "id": "dae8885e",
   "metadata": {},
   "source": [
    "The results from the hyperparameter optimization are quite good. So, we can assume that we are ready to test some of these models in production. In this exercise, you'll promote the best model to the model registry. We have prepared a script called `register_model.py`, which will check the results from the previous step and select the top 5 runs. After that, it will calculate the RMSE of those models on the test set (March 2022 data) and save the results to a new experiment called `random-forest-best-models`.\n",
    "\n",
    "Your task is to update the script `register_model.py` so that it selects the model with the lowest RMSE on the test set and registers it to the model registry.\n",
    "\n",
    "Tips for MLflow:\n",
    "\n",
    "* you can use the method `search_runs` from the `MlflowClient` to get the model with the lowest RMSE,\n",
    "* to register the model you can use the method `mlflow.register_model` and you will need to pass the right `model_uri` in the form of a string that looks like this: `\"runs:/<RUN_ID>/model\"`, and the name of the model (make sure to choose a good one!).\n",
    "\n",
    "What is the test RMSE of the best model?"
   ]
  },
  {
   "cell_type": "code",
   "execution_count": 13,
   "id": "00f70707",
   "metadata": {},
   "outputs": [
    {
     "name": "stdout",
     "output_type": "stream",
     "text": [
      "2023/06/01 23:09:11 INFO mlflow.tracking.fluent: Experiment with name 'random-forest-best-models' does not exist. Creating a new experiment.\n",
      "2023/06/01 23:09:18 WARNING mlflow.utils.autologging_utils: MLflow autologging encountered a warning: \"/home/wsl/miniconda3/envs/mlops/lib/python3.9/site-packages/_distutils_hack/__init__.py:33: UserWarning: Setuptools is replacing distutils.\"\n",
      "Successfully registered model 'best_model_RF'.\n",
      "2023/06/01 23:09:45 INFO mlflow.tracking._model_registry.client: Waiting up to 300 seconds for model version to finish creation. Model name: best_model_RF, version 1\n",
      "Created version '1' of model 'best_model_RF'.\n"
     ]
    }
   ],
   "source": [
    "!python homework/register_model.py"
   ]
  },
  {
   "cell_type": "code",
   "execution_count": 14,
   "id": "36a32f18",
   "metadata": {},
   "outputs": [
    {
     "data": {
      "text/plain": [
       "[<RegisteredModel: aliases={}, creation_timestamp=1685642984613, description='', last_updated_timestamp=1685642984900, latest_versions=[<ModelVersion: aliases=[], creation_timestamp=1685642984900, current_stage='None', description='', last_updated_timestamp=1685642984900, name='best_model_RF', run_id='02b6b69076e84672ad6f8b087826dc62', run_link='', source='/mnt/w/ml/mlops/homeworks/02-experiment-tracking/artifacts/2/02b6b69076e84672ad6f8b087826dc62/artifacts/model', status='READY', status_message=None, tags={}, user_id=None, version=1>], name='best_model_RF', tags={}>]"
      ]
     },
     "execution_count": 14,
     "metadata": {},
     "output_type": "execute_result"
    }
   ],
   "source": [
    "reg_models = client.search_registered_models()\n",
    "reg_models"
   ]
  },
  {
   "cell_type": "code",
   "execution_count": 15,
   "id": "851e3e1a",
   "metadata": {},
   "outputs": [
    {
     "data": {
      "text/plain": [
       "'02b6b69076e84672ad6f8b087826dc62'"
      ]
     },
     "execution_count": 15,
     "metadata": {},
     "output_type": "execute_result"
    }
   ],
   "source": [
    "latest_version = client.get_latest_versions(name=reg_models[0].name)[0]\n",
    "run_id = latest_version.run_id\n",
    "run_id"
   ]
  },
  {
   "cell_type": "code",
   "execution_count": 16,
   "id": "e6c10822",
   "metadata": {},
   "outputs": [
    {
     "data": {
      "text/plain": [
       "2.2854691906481364"
      ]
     },
     "execution_count": 16,
     "metadata": {},
     "output_type": "execute_result"
    }
   ],
   "source": [
    "best_run = client.get_run(run_id=run_id)\n",
    "best_run.data.metrics['test_rmse']"
   ]
  },
  {
   "cell_type": "markdown",
   "id": "9d109dd8",
   "metadata": {},
   "source": [
    "Answer: __2.185__ is the test RMSE of the best model"
   ]
  },
  {
   "cell_type": "markdown",
   "id": "eeaf5f7c",
   "metadata": {},
   "source": [
    "# Q6. Model metadata"
   ]
  },
  {
   "cell_type": "markdown",
   "id": "89063502",
   "metadata": {},
   "source": [
    "Now explore your best model in the model registry using UI. What information does the model registry contain about each model?\n",
    "\n",
    "* Version number\n",
    "* Source experiment\n",
    "* Model signature\n",
    "* All the above answers are correct"
   ]
  },
  {
   "attachments": {
    "image.png": {
     "image/png": "[encoded data removed]"
    }
   },
   "cell_type": "markdown",
   "id": "4e9d7e3c",
   "metadata": {},
   "source": [
    "![image.png](attachment:image.png)"
   ]
  },
  {
   "cell_type": "markdown",
   "id": "5e4e09b3",
   "metadata": {},
   "source": [
    "Answer: __Version number__"
   ]
  },
  {
   "cell_type": "code",
   "execution_count": null,
   "id": "3fb458e2",
   "metadata": {},
   "outputs": [],
   "source": []
  }
 ],
 "metadata": {
  "kernelspec": {
   "display_name": "Python 3 (ipykernel)",
   "language": "python",
   "name": "python3"
  },
  "language_info": {
   "codemirror_mode": {
    "name": "ipython",
    "version": 3
   },
   "file_extension": ".py",
   "mimetype": "text/x-python",
   "name": "python",
   "nbconvert_exporter": "python",
   "pygments_lexer": "ipython3",
   "version": "3.9.16"
  }
 },
 "nbformat": 4,
 "nbformat_minor": 5
}
