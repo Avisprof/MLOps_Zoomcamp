{
 "cells": [
  {
   "cell_type": "markdown",
   "id": "fa2e5bda",
   "metadata": {},
   "source": [
    "https://github.com/DataTalksClub/mlops-zoomcamp/blob/main/cohorts/2023/06-best-practices/homework.md"
   ]
  },
  {
   "cell_type": "markdown",
   "id": "670127b8",
   "metadata": {},
   "source": [
    "In this homework, we'll take the ride duration prediction model\n",
    "that we deployed in batch mode in homework 4 and improve the \n",
    "reliability of our code with unit and integration tests. "
   ]
  },
  {
   "cell_type": "markdown",
   "id": "1cc96cd4",
   "metadata": {},
   "source": [
    "## Q1. Refactoring\n",
    "\n",
    "Before we can start converting our code with tests, we need to \n",
    "refactor it. We'll start by getting rid of all the global variables. \n",
    "\n",
    "* Let's create a function `main` with two parameters: `year` and\n",
    "`month`.\n",
    "* Move all the code (except `read_data`) inside `main`\n",
    "* Make `categorical` a parameter for `read_data` and pass it inside `main`\n",
    "\n",
    "Now we need to create the \"main\" block from which we'll invoke\n",
    "the main function. How does the `if` statement that we use for\n",
    "this looks like? \n",
    "\n",
    "\n",
    "Hint: after refactoring, check that the code still works. Just run\n",
    "it e.g. for Feb 2022 and see if it finishes successfully. \n",
    "\n",
    "To make it easier to run it, you can write results to your local\n",
    "filesystem. E.g. here:\n",
    "\n",
    "```python\n",
    "output_file = f'taxi_type=yellow_year={year:04d}_month={month:02d}.parquet'\n",
    "```"
   ]
  },
  {
   "cell_type": "markdown",
   "id": "d8e68042",
   "metadata": {},
   "source": [
    "Answer: `if __name__ == '__main__':`"
   ]
  },
  {
   "cell_type": "markdown",
   "id": "ce6e65bf",
   "metadata": {},
   "source": [
    "## Q2. Installing pytest\n",
    "\n",
    "Now we need to install `pytest`:\n",
    "\n",
    "```bash\n",
    "pipenv install --dev pytest\n",
    "```\n",
    "\n",
    "Next, create a folder `tests` and then two files inside. \n",
    "\n",
    "The first one will be the file with tests. We can name it `test_batch.py`. \n",
    "\n",
    "The second file will be `__init__.py`. So, why do we need this second file?\n",
    "\n",
    "- To define a package and specify its boundaries\n",
    "- To manage the import of modules from the package \n",
    "- Both of the above options are correct\n",
    "- To initialize a new object"
   ]
  },
  {
   "cell_type": "markdown",
   "id": "f38f6521",
   "metadata": {},
   "source": [
    "Answer: __To define a package and specify its boundaries__"
   ]
  },
  {
   "cell_type": "markdown",
   "id": "f30f068b",
   "metadata": {},
   "source": [
    "## Q3. Writing first unit test\n",
    "\n",
    "Now let's cover our code with unit tests.\n",
    "\n",
    "We'll start with the pre-processing logic inside `read_data`.\n",
    "\n",
    "It's difficult to test right now because first reads\n",
    "the file and then performs some transformations. We need to split this \n",
    "code into two parts: reading (I/O) and transformation. \n",
    "\n",
    "So let's create a function `prepare_data` that takes in a dataframe \n",
    "(and some other parameters too) and applies some transformation to it.\n",
    "\n",
    "(That's basically the entire `read_data` function after reading \n",
    "the parquet file)\n",
    "\n",
    "Now create a test and use this as input:\n",
    "\n",
    "```python\n",
    "data = [\n",
    "    (None, None, dt(1, 2), dt(1, 10)),\n",
    "    (1, None, dt(1, 2), dt(1, 10)),\n",
    "    (1, 2, dt(2, 2), dt(2, 3)),\n",
    "    (None, 1, dt(1, 2, 0), dt(1, 2, 50)),\n",
    "    (2, 3, dt(1, 2, 0), dt(1, 2, 59)),\n",
    "    (3, 4, dt(1, 2, 0), dt(2, 2, 1)),     \n",
    "]\n",
    "\n",
    "columns = ['PULocationID', 'DOLocationID', 'tpep_pickup_datetime', 'tpep_dropoff_datetime']\n",
    "df = pd.DataFrame(data, columns=columns)\n",
    "```\n",
    "\n",
    "Where `dt` is a helper function:\n",
    "\n",
    "```python\n",
    "from datetime import datetime\n",
    "\n",
    "def dt(hour, minute, second=0):\n",
    "    return datetime(2022, 1, 1, hour, minute, second)\n",
    "```\n",
    "\n",
    "Define the expected output and use the assert to make sure \n",
    "that the actual dataframe matches the expected one\n",
    "\n",
    "Tip: When you compare two Pandas DataFrames, the result is also a DataFrame.\n",
    "The same is true for Pandas Series. Also, a DataFrame could be turned into a\n",
    "list of dictionaries.  \n",
    "\n",
    "How many rows should be there in the expected dataframe?\n",
    "\n",
    "- 1\n",
    "- 2\n",
    "- 3\n",
    "- 4"
   ]
  },
  {
   "cell_type": "markdown",
   "id": "2b62af1c",
   "metadata": {},
   "source": [
    "Answer: __3__"
   ]
  },
  {
   "cell_type": "markdown",
   "id": "2d5fb937",
   "metadata": {},
   "source": [
    "## Q4. Mocking S3 with Localstack \n",
    "\n",
    "Now let's prepare for an integration test. In our script, we \n",
    "write data to S3. So we'll use Localstack to mimic S3.\n",
    "\n",
    "First, let's run Localstack with Docker compose. Let's create a \n",
    "`docker-compose.yaml` file with just one service: localstack. Inside\n",
    "localstack, we're only interested in running S3. \n",
    "\n",
    "Start the service and test it by creating a bucket where we'll\n",
    "keep the output. Let's call it \"nyc-duration\".\n",
    "\n",
    "With AWS CLI, this is how we create a bucket:\n",
    "\n",
    "```bash\n",
    "aws s3 mb s3://nyc-duration\n",
    "```\n",
    "\n",
    "Then we need to check that the bucket was successfully created. With AWS, this is how we typically do it:\n",
    "\n",
    "```bash\n",
    "aws s3 ls\n",
    "```\n",
    "\n",
    "In both cases we should adjust commands for localstack. Which option do we need to use for such purposes?\n",
    "\n",
    "- `--endpoint-url`\n",
    "- `--profile`\n",
    "- `--region`\n",
    "- `--version`"
   ]
  },
  {
   "attachments": {
    "image.png": {
     "image/png": "[encoded data removed]"
    }
   },
   "cell_type": "markdown",
   "id": "260954e2",
   "metadata": {},
   "source": [
    "![image.png](attachment:image.png)"
   ]
  },
  {
   "cell_type": "markdown",
   "id": "6b6fa3ca",
   "metadata": {},
   "source": [
    "`aws s3 mb --endpoint-url=http://localhost:4566 s3://nyc-duration`\n",
    "<br>`aws s3 --endpoint-url=http://localhost:4566 ls`"
   ]
  },
  {
   "cell_type": "markdown",
   "id": "350304d8",
   "metadata": {},
   "source": [
    "Answer: __--endpoint-url__"
   ]
  },
  {
   "cell_type": "markdown",
   "id": "6300eb2c",
   "metadata": {},
   "source": [
    "## Make input and output paths configurable\n",
    "\n",
    "Right now the input and output paths are hardcoded, but we want\n",
    "to change it for the tests. \n",
    "\n",
    "One of the possible ways would be to specify `INPUT_FILE_PATTERN` and `OUTPUT_FILE_PATTERN` via the env \n",
    "variables. Let's do that:\n",
    "\n",
    "\n",
    "```bash\n",
    "export INPUT_FILE_PATTERN=\"s3://nyc-duration/in/{year:04d}-{month:02d}.parquet\"\n",
    "export OUTPUT_FILE_PATTERN=\"s3://nyc-duration/out/{year:04d}-{month:02d}.parquet\"\n",
    "```\n",
    "\n",
    "And this is how we can read them:\n",
    "\n",
    "```python\n",
    "def get_input_path(year, month):\n",
    "    default_input_pattern = 'https://d37ci6vzurychx.cloudfront.net/trip-data/yellow_tripdata_{year:04d}-{month:02d}.parquet'\n",
    "    input_pattern = os.getenv('INPUT_FILE_PATTERN', default_input_pattern)\n",
    "    return input_pattern.format(year=year, month=month)\n",
    "\n",
    "\n",
    "def get_output_path(year, month):\n",
    "    default_output_pattern = 's3://nyc-duration-prediction-alexey/taxi_type=fhv/year={year:04d}/month={month:02d}/predictions.parquet'\n",
    "    output_pattern = os.getenv('OUTPUT_FILE_PATTERN', default_output_pattern)\n",
    "    return output_pattern.format(year=year, month=month)\n",
    "\n",
    "\n",
    "def main(year, month):\n",
    "    input_file = get_input_path(year, month)\n",
    "    output_file = get_output_path(year, month)\n",
    "    # rest of the main function ... \n",
    "```\n",
    "\n",
    "## Reading from Localstack S3 with Pandas\n",
    "\n",
    "So far we've been reading parquet files from S3 with using\n",
    "pandas `read_parquet`. But this way we read it from the\n",
    "actual S3 service. Now we need to replace it with our localstack\n",
    "one.\n",
    "\n",
    "For that, we need to specify the endpoint url:\n",
    "\n",
    "```python\n",
    "options = {\n",
    "    'client_kwargs': {\n",
    "        'endpoint_url': S3_ENDPOINT_URL\n",
    "    }\n",
    "}\n",
    "\n",
    "df = pd.read_parquet('s3://bucket/file.parquet', storage_options=options)\n",
    "```\n",
    "\n",
    "Let's modify our `read_data` function:\n",
    "\n",
    "- check if `S3_ENDPOINT_URL` is set, and if it is, use it for reading\n",
    "- otherwise use the usual way"
   ]
  },
  {
   "cell_type": "markdown",
   "id": "95ae2f47",
   "metadata": {},
   "source": [
    "## Q5. Creating test data\n",
    "\n",
    "Now let's create `integration_test.py`\n",
    "\n",
    "We'll use the dataframe we created in Q3 (the dataframe for the unit test)\n",
    "and save it to S3. You don't need to do anything else: just create a dataframe \n",
    "and save it.\n",
    "\n",
    "We will pretend that this is data for January 2022.\n",
    "\n",
    "Run the `integration_test.py` script. After that, use AWS CLI to verify that the \n",
    "file was created. \n",
    "\n",
    "Use this snipped for saving the file:\n",
    "\n",
    "```python\n",
    "df_input.to_parquet(\n",
    "    input_file,\n",
    "    engine='pyarrow',\n",
    "    compression=None,\n",
    "    index=False,\n",
    "    storage_options=options\n",
    ")\n",
    "```\n",
    "\n",
    "What's the size of the file?\n",
    "\n",
    "- 3667\n",
    "- 23667\n",
    "- 43667\n",
    "- 63667\n",
    "\n",
    "Note: it's important to use the code from the snippet for saving\n",
    "the file. Otherwise the size may be different depending on the OS,\n",
    "engine and compression. Even if you use this exact snippet, the size\n",
    "of your dataframe may still be a bit off. Just select the closest option."
   ]
  },
  {
   "cell_type": "raw",
   "id": "769d2cc3",
   "metadata": {},
   "source": [
    "export INPUT_FILE_PATTERN=\"s3://nyc-duration/in/{year:04d}-{month:02d}.parquet\"\n",
    "export OUTPUT_FILE_PATTERN=\"s3://nyc-duration/out/{year:04d}-{month:02d}.parquet\"\n",
    "export S3_ENDPOINT_URL=http://localhost:4566"
   ]
  },
  {
   "cell_type": "code",
   "execution_count": 2,
   "id": "19535a7e",
   "metadata": {},
   "outputs": [
    {
     "name": "stdout",
     "output_type": "stream",
     "text": [
      "                           PRE in/\r\n",
      "2023-07-15 21:09:33       3667 input.parquet\r\n"
     ]
    }
   ],
   "source": [
    "!aws s3 --endpoint-url=http://localhost:4566 ls nyc-duration"
   ]
  },
  {
   "cell_type": "markdown",
   "id": "40b42f7b",
   "metadata": {},
   "source": [
    "Answer: __3667__"
   ]
  },
  {
   "cell_type": "markdown",
   "id": "aae3c5d5",
   "metadata": {},
   "source": [
    "## Q6. Finish the integration test\n",
    "\n",
    "We can read from our localstack s3, but we also need to write to it.\n",
    "\n",
    "Create a function `save_data` which works similarly to `read_data`,\n",
    "but we use it for saving a dataframe. \n",
    "\n",
    "Let's run the `batch.py` script for \"January 2022\" (the fake data\n",
    "we created in Q5). \n",
    "\n",
    "We can do that from our integration test in Python: we can use\n",
    "`os.system` for doing that (there are other options too). \n",
    "\n",
    "Now it saves the result to localstack.\n",
    "\n",
    "The only thing we need to do now is to read this data and \n",
    "verify the result is correct. \n",
    "\n",
    "What's the sum of predicted durations for the test dataframe?\n",
    "\n",
    "- 10.50\n",
    "- 31.51\n",
    "- 59.28\n",
    "- 81.22"
   ]
  },
  {
   "cell_type": "code",
   "execution_count": 7,
   "id": "05aae59d",
   "metadata": {},
   "outputs": [
    {
     "data": {
      "text/html": [
       "<div>\n",
       "<style scoped>\n",
       "    .dataframe tbody tr th:only-of-type {\n",
       "        vertical-align: middle;\n",
       "    }\n",
       "\n",
       "    .dataframe tbody tr th {\n",
       "        vertical-align: top;\n",
       "    }\n",
       "\n",
       "    .dataframe thead th {\n",
       "        text-align: right;\n",
       "    }\n",
       "</style>\n",
       "<table border=\"1\" class=\"dataframe\">\n",
       "  <thead>\n",
       "    <tr style=\"text-align: right;\">\n",
       "      <th></th>\n",
       "      <th>ride_id</th>\n",
       "      <th>predicted_duration</th>\n",
       "    </tr>\n",
       "  </thead>\n",
       "  <tbody>\n",
       "    <tr>\n",
       "      <th>0</th>\n",
       "      <td>2022/01_0</td>\n",
       "      <td>24.781802</td>\n",
       "    </tr>\n",
       "    <tr>\n",
       "      <th>1</th>\n",
       "      <td>2022/01_1</td>\n",
       "      <td>0.617543</td>\n",
       "    </tr>\n",
       "    <tr>\n",
       "      <th>2</th>\n",
       "      <td>2022/01_2</td>\n",
       "      <td>6.108105</td>\n",
       "    </tr>\n",
       "  </tbody>\n",
       "</table>\n",
       "</div>"
      ],
      "text/plain": [
       "     ride_id  predicted_duration\n",
       "0  2022/01_0           24.781802\n",
       "1  2022/01_1            0.617543\n",
       "2  2022/01_2            6.108105"
      ]
     },
     "execution_count": 7,
     "metadata": {},
     "output_type": "execute_result"
    }
   ],
   "source": [
    "import os \n",
    "import pandas as pd\n",
    "\n",
    "S3_ENDPOINT_URL = 'http://localhost:4566'\n",
    "options = {\n",
    "    'client_kwargs': {\n",
    "        'endpoint_url': S3_ENDPOINT_URL\n",
    "    }\n",
    "}\n",
    "df = pd.read_parquet('s3://nyc-duration/out/2022-01.parquet', storage_options=options)\n",
    "df.head()"
   ]
  },
  {
   "cell_type": "code",
   "execution_count": 8,
   "id": "859b5fd0",
   "metadata": {},
   "outputs": [
    {
     "data": {
      "text/plain": [
       "31.507450372727607"
      ]
     },
     "execution_count": 8,
     "metadata": {},
     "output_type": "execute_result"
    }
   ],
   "source": [
    "df.predicted_duration.sum()"
   ]
  },
  {
   "cell_type": "markdown",
   "id": "0f972561",
   "metadata": {},
   "source": [
    "Answer: __31.51__"
   ]
  }
 ],
 "metadata": {
  "kernelspec": {
   "display_name": "Python 3 (ipykernel)",
   "language": "python",
   "name": "python3"
  },
  "language_info": {
   "codemirror_mode": {
    "name": "ipython",
    "version": 3
   },
   "file_extension": ".py",
   "mimetype": "text/x-python",
   "name": "python",
   "nbconvert_exporter": "python",
   "pygments_lexer": "ipython3",
   "version": "3.9.16"
  }
 },
 "nbformat": 4,
 "nbformat_minor": 5
}
